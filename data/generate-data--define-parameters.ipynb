{
 "cells": [
  {
   "cell_type": "code",
   "execution_count": null,
   "metadata": {},
   "outputs": [],
   "source": [
    "%load_ext autoreload\n",
    "%autoreload 2"
   ]
  },
  {
   "cell_type": "code",
   "execution_count": null,
   "metadata": {},
   "outputs": [],
   "source": [
    "import sys\n",
    "import dill\n",
    "import numpy as np\n",
    "import scipy.io as io\n",
    "import datetime\n",
    "\n",
    "sys.path.append('../helper_functions')\n",
    "sys.path.append('helper_functions')\n",
    "sys.path.append('../objects')\n",
    "sys.path.append('objects')"
   ]
  },
  {
   "cell_type": "code",
   "execution_count": null,
   "metadata": {},
   "outputs": [],
   "source": [
    "from FishGeneration import FishGeneration\n",
    "from Fish_IceCreamCone import IceCreamConeFish\n",
    "from Fish_Capsule import CapsuleFish\n",
    "\n",
    "from assertion_tests import run_tests\n",
    "run_tests()"
   ]
  },
  {
   "cell_type": "markdown",
   "metadata": {},
   "source": [
    "## Load fish details"
   ]
  },
  {
   "cell_type": "markdown",
   "metadata": {},
   "source": [
    "#### the EOD waveform"
   ]
  },
  {
   "cell_type": "code",
   "execution_count": null,
   "metadata": {},
   "outputs": [],
   "source": [
    "# use a dummy EOD until real EOD is available in this framework\n",
    "full_eod = np.linspace(0, 2 * np.pi, 1000)\n",
    "full_eod = np.sin(full_eod) * full_eod * np.exp(-((full_eod - np.pi) ** 2) / (2 * (np.pi / 6) ** 2))"
   ]
  },
  {
   "cell_type": "markdown",
   "metadata": {},
   "source": [
    "#### the receptor filters"
   ]
  },
  {
   "cell_type": "code",
   "execution_count": null,
   "metadata": {},
   "outputs": [],
   "source": [
    "# use dummy filters until real filters are available in this framework\n",
    "receptor_filters = np.random.randn(2, *full_eod.shape)\n",
    "receptor_filters.shape"
   ]
  },
  {
   "cell_type": "markdown",
   "metadata": {},
   "source": [
    "#### check the input arguments for the wanted fish object (helps with creating fish objects)"
   ]
  },
  {
   "cell_type": "code",
   "execution_count": null,
   "metadata": {},
   "outputs": [],
   "source": [
    "for x in CapsuleFish._initialize_input_argument_names():\n",
    "    print(f'{x},')"
   ]
  },
  {
   "cell_type": "markdown",
   "metadata": {},
   "source": [
    "## Dataset: YYYY_MM_DD Purpose"
   ]
  },
  {
   "cell_type": "code",
   "execution_count": null,
   "metadata": {},
   "outputs": [],
   "source": []
  },
  {
   "cell_type": "markdown",
   "metadata": {},
   "source": [
    "## Dataset: 2024_05_23 Test"
   ]
  },
  {
   "cell_type": "code",
   "execution_count": null,
   "metadata": {},
   "outputs": [],
   "source": [
    "print(datetime.datetime.now().strftime('%Y_%m_%d'))"
   ]
  },
  {
   "cell_type": "code",
   "execution_count": null,
   "metadata": {},
   "outputs": [],
   "source": [
    "dataset_name = 'data-2024_05_23-test'"
   ]
  },
  {
   "cell_type": "markdown",
   "metadata": {},
   "source": [
    "#### create the Fish object"
   ]
  },
  {
   "cell_type": "code",
   "execution_count": null,
   "metadata": {},
   "outputs": [],
   "source": [
    "base_fish = CapsuleFish(\n",
    "    receptor_filters=receptor_filters,\n",
    "    eod_wave_form=full_eod,\n",
    "    skin_resistivity=(3, \"k\", \"c.2\"),  # 3 kOhm.cm^2\n",
    "    sampling_rate=(2.5, \"M\"),  # 2.5 MHz,\n",
    "    nose_position=[0, 0, 0],\n",
    "    fish_length=(15, \"c\"),\n",
    "    angle_yaw=(0, \"deg\"),\n",
    "    angle_pitch=(0, \"deg\"),\n",
    "    angle_roll=(0, \"deg\"),\n",
    "    relative_bend_locations_percentage=np.array([]),\n",
    "    relative_bend_angle_lateral=(np.array([]), \"deg\"),\n",
    "    relative_bend_angle_dorso_ventral=(np.array([]), \"deg\"),\n",
    "    # receptors_init=dict(\n",
    "    #     method=\"grid_uniDense\",\n",
    "    #     head_t=0,\n",
    "    #     head_u=0,\n",
    "    #     tail_t=0,\n",
    "    #     tail_u=0,\n",
    "    #     body_t=60,\n",
    "    #     body_u=30,\n",
    "    # ),\n",
    "    # vertical_semi_axis=(2.0, \"c\"),\n",
    "    # lateral_semi_axis=(0.9, \"c\"),\n",
    "    # rostrocaudal_semi_axis=0,\n",
    "    # rostrocaudal_semi_axis_tail=0,\n",
    "    receptors_init=dict(\n",
    "        method=\"manual\",\n",
    "        locations=np.array([[15e-2 - 18e-3, 9e-3, 0], [15e-2 - 20e-3, 9e-3, 0], [15e-2 - 22e-3, 9e-3, 0]]).reshape(\n",
    "            -1, 3\n",
    "        ),\n",
    "        normals=np.array([[0, 1, 0], [0, 1, 0], [0, 1, 0]]).reshape(-1, 3),\n",
    "    ),\n",
    ")\n",
    "\n",
    "dill.dump(base_fish, open(f\"base-fish/{dataset_name}.pkl\", \"wb\"), protocol=4)\n",
    "base_fish = dill.load(open(f\"base-fish/{dataset_name}.pkl\", \"rb\"))"
   ]
  },
  {
   "cell_type": "markdown",
   "metadata": {},
   "source": [
    "#### visualize fish object for inspection"
   ]
  },
  {
   "cell_type": "code",
   "execution_count": null,
   "metadata": {},
   "outputs": [],
   "source": [
    "base_fish.visualize_scatter(show_normals=2, show_point_currents=3, fig_width=1000, fig_height=350)\n",
    "print(base_fish.get_N_receptors())"
   ]
  },
  {
   "cell_type": "markdown",
   "metadata": {},
   "source": [
    "#### select simulation parameters"
   ]
  },
  {
   "cell_type": "code",
   "execution_count": null,
   "metadata": {},
   "outputs": [],
   "source": [
    "# Create Data Params Dict\n",
    "data_params_dict = {}\n",
    "data_params_dict[\"save_name\"]                       = dataset_name\n",
    "# aquarium properties\n",
    "data_params_dict[\"water_conductivities\"]            = [0.01, 0.015]\n",
    "data_params_dict[\"boundary_displacements\"]          = [[-1e9], [-30e-3, -50e-3]]\n",
    "data_params_dict[\"boundary_normals\"]                = [[0, 0, 1], [0, 0, 1]]\n",
    "# fish properties\n",
    "data_params_dict[\"fish_obj\"]                        = base_fish\n",
    "data_params_dict[\"fish_bend_location_percentages\"]  = [[50], []]\n",
    "data_params_dict[\"fish_bend_angle_lateral_deg\"]         = [[20], [45], []]\n",
    "data_params_dict[\"fish_bend_angle_dorso_ventral_deg\"]   = [[20], [30], []]\n",
    "data_params_dict[\"fish_yaw_deg\"]                        = [0]\n",
    "data_params_dict[\"fish_pitch_deg\"]                      = [0]\n",
    "data_params_dict[\"fish_roll_deg\"]                       = [0]\n",
    "# worm properties\n",
    "data_params_dict['worm_resistances']                = np.exp(np.linspace(np.log(2), np.log(100), 10)) * 1e3\n",
    "data_params_dict[\"worm_capacitances\"]               = np.exp(np.linspace(np.log(2), np.log(100), 10)) * 1e-10\n",
    "data_params_dict[\"worm_radii\"]                      = np.array([5, 12.5]) * 1e-3\n",
    "data_params_dict[\"worm_position_xs\"]                = np.array([-30]) * 1e-3\n",
    "data_params_dict[\"worm_position_ys\"]                = np.array([5, 10]) * 1e-3 + base_fish.get_lateral_semi_axis() + data_params_dict[\"worm_radii\"]\n",
    "data_params_dict[\"worm_position_zs\"]                = np.array([0]) * 1e-3\n",
    "# save params file\n",
    "dill.dump(data_params_dict, open(f\"params/{data_params_dict['save_name']}.pkl\", \"wb\"), protocol=4)"
   ]
  },
  {
   "cell_type": "code",
   "execution_count": null,
   "metadata": {},
   "outputs": [],
   "source": []
  },
  {
   "cell_type": "code",
   "execution_count": null,
   "metadata": {},
   "outputs": [],
   "source": []
  },
  {
   "cell_type": "markdown",
   "metadata": {},
   "source": [
    "## Misc - previous param dicts for reference"
   ]
  },
  {
   "cell_type": "code",
   "execution_count": null,
   "metadata": {},
   "outputs": [],
   "source": [
    "# Create Data Params Dict\n",
    "data_params_dict = {}\n",
    "# data_params_dict['save_file_name']                  = 'data_240411_SpatialProcessing_MovingObject_7by15'\n",
    "data_params_dict['save_file_name']                  = 'data_240425_Detection_1050_receptors_HighContrast'\n",
    "# aquarium properties\n",
    "data_params_dict['water_conductivities']            = [0.01]\n",
    "data_params_dict['boundary_displacements']          = [[-1e9]]\n",
    "data_params_dict['boundary_normals']                =  [[0,0,1]]\n",
    "# fish properties\n",
    "data_params_dict['fish_obj']                        = base_fish\n",
    "data_params_dict['fish_bend_angle_lateral']         = [[0]]\n",
    "data_params_dict['fish_bend_angle_dorso_ventral']   = [[0]]\n",
    "data_params_dict['fish_bend_location_percentages']  = [[0]]\n",
    "data_params_dict['fish_yaw']                        = [0]\n",
    "data_params_dict['fish_pitch']                      = [0]\n",
    "data_params_dict['fish_roll']                       = [0]\n",
    "# worm properties\n",
    "# data_params_dict['worm_resistances']                = np.exp(np.linspace(np.log(2), np.log(100), 5)) * 1e3\n",
    "data_params_dict['worm_resistances']                = np.array([2e3, 100e3])  # HighContrast\n",
    "data_params_dict['worm_capacitances']               = np.exp(np.linspace(np.log(2), np.log(100), 5)) * 1e-10  # HighContrast when paired with HighContrast resistances\n",
    "# data_params_dict['worm_capacitances']               = np.array([2e-10])  # HighContrast\n",
    "data_params_dict['worm_radii']                      = np.array([12.5]) * 1e-3\n",
    "data_params_dict['worm_position_xs']                = np.array([-30]) * 1e-3   # - np.arange(101) * 3e-4\n",
    "data_params_dict['worm_position_ys']                = (5 * np.power(np.sqrt(1.33), np.arange(25))).round(0) * 1e-3 + base_fish.lat_ax + data_params_dict['worm_radii']\n",
    "data_params_dict['worm_position_zs']                = np.array([0]) * 1e-3\n",
    "# save params file\n",
    "dill.dump(data_params_dict, open('../data/params/' + data_params_dict['save_file_name'] + '_params_dict.pkl', 'wb'), protocol=4)"
   ]
  },
  {
   "cell_type": "code",
   "execution_count": null,
   "metadata": {},
   "outputs": [],
   "source": [
    "# Create Data Params Dict\n",
    "data_params_dict = {}\n",
    "data_params_dict['save_file_name']                  = 'data_231116_SpatialProcessing_MovingObject_11by25'\n",
    "# aquarium properties\n",
    "data_params_dict['water_conductivities']            = [0.01]  # np.array([100, 300, 600]) * 1e-6 / 1e-2\n",
    "data_params_dict['boundary_displacements']          = [[-1e9]]\n",
    "                                                      # [[-1e9]+list(-np.arange(35, 70, 5)[::-1]*1e-3),\n",
    "                                                      #  [-1e9]+list(-np.arange(35, 70, 5)[::-1]*1e-3), \n",
    "                                                      #  [-1e9]+list(-np.arange(35, 70, 5)[::-1]*1e-3)]\n",
    "                                                    #  [[-1e9]+list(-np.linspace(5*base_fish.roc_ax, base_fish.roc_ax, 9)), ]  # \n",
    "                                                    #    [-1e9]+list(-np.linspace(0.058, 0.022, 9)),\n",
    "                                                    #    [-1e9]+list(-np.linspace(0.058, 0.022, 9))]\n",
    "data_params_dict['boundary_normals']                =  [[0,0,1]]\n",
    "                                                      # [[0,0,1], [0,-1,0], [0,1,0]]\n",
    "      #  [[0,0,1], ]  #\n",
    "      #    [0,-1,0],\n",
    "      #    [0,1,0]]\n",
    "# fish properties\n",
    "data_params_dict['fish_obj']                        = base_fish\n",
    "data_params_dict['fish_bend_angle_lateral']         = [[0]]#[[x] for x in np.linspace(-60,60,25)]\n",
    "data_params_dict['fish_bend_angle_dorso_ventral']   = [[0]]#[[0]]\n",
    "data_params_dict['fish_bend_location_percentages']  = [[0]]#[[60]]\n",
    "data_params_dict['fish_yaw']                        = [0]\n",
    "data_params_dict['fish_pitch']                      = [0]\n",
    "data_params_dict['fish_roll']                       = [0]\n",
    "# worm properties\n",
    "data_params_dict['worm_resistances']                = np.exp(np.linspace(np.log(2), np.log(100), 5)) * 1e3\n",
    "data_params_dict['worm_capacitances']               = np.exp(np.linspace(np.log(2), np.log(100), 5)) * 1e-10\n",
    "data_params_dict['worm_radii']                      = np.array([12.5]) * 1e-3\n",
    "data_params_dict['worm_position_xs']                = np.array([-30]) * 1e-3 - np.arange(11) * 3e-3\n",
    "data_params_dict['worm_position_ys']                = np.array([5,10,15,30,50,70,100,150]) * 1e-3 + base_fish.lat_ax + data_params_dict['worm_radii']\n",
    "data_params_dict['worm_position_zs']                = np.array([0]) * 1e-3\n",
    "# save params file\n",
    "dill.dump(data_params_dict, open('../data/params/' + data_params_dict['save_file_name'] + '_params_dict.pkl', 'wb'), protocol=4)"
   ]
  },
  {
   "cell_type": "code",
   "execution_count": null,
   "metadata": {},
   "outputs": [],
   "source": [
    "# Create Data Params Dict\n",
    "data_params_dict = {}\n",
    "data_params_dict['save_file_name']                  = 'data_240311_falloff_with_distance_and_radius'\n",
    "# aquarium properties\n",
    "data_params_dict['water_conductivities']            = np.array([100]) * 1e-6 / 1e-2\n",
    "data_params_dict['boundary_displacements']          = [[-1e9]]\n",
    "data_params_dict['boundary_normals']                =  [[0,0,1]]\n",
    "# fish properties\n",
    "data_params_dict['fish_obj']                        = base_fish\n",
    "data_params_dict['fish_bend_angle_lateral']         = [[0]]\n",
    "data_params_dict['fish_bend_angle_dorso_ventral']   = [[0]]\n",
    "data_params_dict['fish_bend_location_percentages']  = [[0]]\n",
    "data_params_dict['fish_yaw']                        = [0]\n",
    "data_params_dict['fish_pitch']                      = [0]\n",
    "data_params_dict['fish_roll']                       = [0]\n",
    "# worm properties\n",
    "data_params_dict['worm_resistances']                = np.array([500,50000])\n",
    "data_params_dict['worm_capacitances']               = np.array([2e-10])\n",
    "data_params_dict['worm_radii']                      = np.arange(5,11) * 1e-3\n",
    "data_params_dict['worm_position_xs']                = np.array([-30]) * 1e-3\n",
    "data_params_dict['worm_position_ys']                = np.arange(10,201) * 1e-3 + base_fish.lat_ax\n",
    "data_params_dict['worm_position_zs']                = np.array([0]) * 1e-3\n",
    "# save params file\n",
    "dill.dump(data_params_dict, open('../data/params/' + data_params_dict['save_file_name'] + '_params_dict.pkl', 'wb'), protocol=4)"
   ]
  },
  {
   "cell_type": "code",
   "execution_count": null,
   "metadata": {},
   "outputs": [],
   "source": []
  }
 ],
 "metadata": {
  "kernelspec": {
   "display_name": "Python 3.7.6 ('fish_PT')",
   "language": "python",
   "name": "python3"
  },
  "language_info": {
   "codemirror_mode": {
    "name": "ipython",
    "version": 3
   },
   "file_extension": ".py",
   "mimetype": "text/x-python",
   "name": "python",
   "nbconvert_exporter": "python",
   "pygments_lexer": "ipython3",
   "version": "3.11.7"
  },
  "vscode": {
   "interpreter": {
    "hash": "6ad226b9bd45bab16b521a40b87b0c0819cb92a301ab41030f1182bd53c1fc03"
   }
  }
 },
 "nbformat": 4,
 "nbformat_minor": 4
}
