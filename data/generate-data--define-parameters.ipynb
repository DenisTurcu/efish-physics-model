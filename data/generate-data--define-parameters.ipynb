{
 "cells": [
  {
   "cell_type": "code",
   "execution_count": 1,
   "metadata": {},
   "outputs": [],
   "source": [
    "%load_ext autoreload\n",
    "%autoreload 2"
   ]
  },
  {
   "cell_type": "code",
   "execution_count": 2,
   "metadata": {},
   "outputs": [],
   "source": [
    "import sys\n",
    "import dill\n",
    "import numpy as np\n",
    "import scipy.io as io\n",
    "import datetime\n",
    "\n",
    "sys.path.append('../helper_functions')\n",
    "sys.path.append('helper_functions')\n",
    "sys.path.append('../objects')\n",
    "sys.path.append('objects')"
   ]
  },
  {
   "cell_type": "code",
   "execution_count": 3,
   "metadata": {},
   "outputs": [
    {
     "data": {
      "text/plain": [
       "'Success!'"
      ]
     },
     "execution_count": 3,
     "metadata": {},
     "output_type": "execute_result"
    }
   ],
   "source": [
    "from FishGeneration import FishGeneration\n",
    "from Fish_IceCreamCone import IceCreamConeFish\n",
    "from Fish_Capsule import CapsuleFish\n",
    "\n",
    "from assertion_tests import run_tests\n",
    "run_tests()"
   ]
  },
  {
   "cell_type": "markdown",
   "metadata": {},
   "source": [
    "## Load fish details"
   ]
  },
  {
   "cell_type": "markdown",
   "metadata": {},
   "source": [
    "#### the EOD waveform"
   ]
  },
  {
   "cell_type": "code",
   "execution_count": null,
   "metadata": {},
   "outputs": [],
   "source": [
    "# use a dummy EOD until real EOD is available in this framework\n",
    "full_eod = np.linspace(0, 2 * np.pi, 1000)\n",
    "full_eod = np.sin(full_eod) * full_eod * np.exp(-((full_eod - np.pi) ** 2) / (2 * (np.pi / 6) ** 2))"
   ]
  },
  {
   "cell_type": "markdown",
   "metadata": {},
   "source": [
    "#### the receptor filters"
   ]
  },
  {
   "cell_type": "code",
   "execution_count": null,
   "metadata": {},
   "outputs": [],
   "source": [
    "# use dummy filters until real filters are available in this framework\n",
    "receptor_filters = np.random.randn(2, *full_eod.shape)\n",
    "receptor_filters.shape"
   ]
  },
  {
   "cell_type": "markdown",
   "metadata": {},
   "source": [
    "#### check the input arguments for the wanted fish object (helps with creating fish objects)"
   ]
  },
  {
   "cell_type": "code",
   "execution_count": null,
   "metadata": {},
   "outputs": [],
   "source": [
    "for x in CapsuleFish._initialize_input_argument_names():\n",
    "    print(f'{x},')"
   ]
  },
  {
   "cell_type": "markdown",
   "metadata": {},
   "source": [
    "## Dataset: YYYY_MM_DD Purpose"
   ]
  },
  {
   "cell_type": "code",
   "execution_count": null,
   "metadata": {},
   "outputs": [],
   "source": []
  },
  {
   "cell_type": "markdown",
   "metadata": {},
   "source": [
    "## Dataset: 2024_05_23 Test"
   ]
  },
  {
   "cell_type": "code",
   "execution_count": null,
   "metadata": {},
   "outputs": [],
   "source": [
    "print(datetime.datetime.now().strftime('%Y_%m_%d'))"
   ]
  },
  {
   "cell_type": "code",
   "execution_count": null,
   "metadata": {},
   "outputs": [],
   "source": [
    "dataset_name = 'data-2024_05_23-test'"
   ]
  },
  {
   "cell_type": "markdown",
   "metadata": {},
   "source": [
    "#### create the Fish object"
   ]
  },
  {
   "cell_type": "code",
   "execution_count": null,
   "metadata": {},
   "outputs": [],
   "source": [
    "base_fish = CapsuleFish(\n",
    "    receptor_filters=receptor_filters,\n",
    "    eod_wave_form=full_eod,\n",
    "    skin_resistivity=(3, \"k\", \"c.2\"),  # 3 kOhm.cm^2\n",
    "    sampling_rate=(2.5, \"M\"),  # 2.5 MHz,\n",
    "    nose_position=[0, 0, 0],\n",
    "    fish_length=(15, \"c\"),\n",
    "    angle_yaw=(0, \"deg\"),\n",
    "    angle_pitch=(0, \"deg\"),\n",
    "    angle_roll=(0, \"deg\"),\n",
    "    relative_bend_locations_percentage=np.array([]),\n",
    "    relative_bend_angle_lateral=(np.array([]), \"deg\"),\n",
    "    relative_bend_angle_dorso_ventral=(np.array([]), \"deg\"),\n",
    "    # receptors_init=dict(\n",
    "    #     method=\"grid_uniDense\",\n",
    "    #     head_t=0,\n",
    "    #     head_u=0,\n",
    "    #     tail_t=0,\n",
    "    #     tail_u=0,\n",
    "    #     body_t=60,\n",
    "    #     body_u=30,\n",
    "    # ),\n",
    "    # vertical_semi_axis=(2.0, \"c\"),\n",
    "    # lateral_semi_axis=(0.9, \"c\"),\n",
    "    # rostrocaudal_semi_axis=0,\n",
    "    # rostrocaudal_semi_axis_tail=0,\n",
    "    receptors_init=dict(\n",
    "        method=\"manual\",\n",
    "        locations=np.array([[15e-2 - 18e-3, 9e-3, 0], [15e-2 - 20e-3, 9e-3, 0], [15e-2 - 22e-3, 9e-3, 0]]).reshape(\n",
    "            -1, 3\n",
    "        ),\n",
    "        normals=np.array([[0, 1, 0], [0, 1, 0], [0, 1, 0]]).reshape(-1, 3),\n",
    "    ),\n",
    ")\n",
    "\n",
    "dill.dump(base_fish, open(f\"base-fish/{dataset_name}.pkl\", \"wb\"), protocol=4)\n",
    "base_fish = dill.load(open(f\"base-fish/{dataset_name}.pkl\", \"rb\"))"
   ]
  },
  {
   "cell_type": "markdown",
   "metadata": {},
   "source": [
    "#### visualize fish object for inspection"
   ]
  },
  {
   "cell_type": "code",
   "execution_count": null,
   "metadata": {},
   "outputs": [],
   "source": [
    "base_fish.visualize_scatter(show_normals=2, show_point_currents=3, fig_width=1000, fig_height=350)\n",
    "print(base_fish.get_N_receptors())"
   ]
  },
  {
   "cell_type": "markdown",
   "metadata": {},
   "source": [
    "#### select simulation parameters"
   ]
  },
  {
   "cell_type": "code",
   "execution_count": null,
   "metadata": {},
   "outputs": [],
   "source": [
    "# Create Data Params Dict\n",
    "data_params_dict = {}\n",
    "data_params_dict[\"save_name\"]                       = dataset_name\n",
    "# aquarium properties\n",
    "data_params_dict[\"water_conductivities\"]            = [0.01]\n",
    "data_params_dict[\"boundary_displacements\"]          = [[-1e9], [-30e-3]]\n",
    "data_params_dict[\"boundary_normals\"]                = [[0, 0, 1], [0, 0, 1]]\n",
    "# fish properties\n",
    "data_params_dict[\"fish_obj\"]                        = base_fish\n",
    "data_params_dict[\"fish_bend_location_percentages\"]  = [[0]]\n",
    "data_params_dict[\"fish_bend_angle_lateral\"]         = [[0], [20]]\n",
    "data_params_dict[\"fish_bend_angle_dorso_ventral\"]   = [[0]]\n",
    "data_params_dict[\"fish_yaw\"]                        = [0]\n",
    "data_params_dict[\"fish_pitch\"]                      = [0]\n",
    "data_params_dict[\"fish_roll\"]                       = [0]\n",
    "# worm properties\n",
    "data_params_dict['worm_resistances']                = np.exp(np.linspace(np.log(2), np.log(100), 10)) * 1e3\n",
    "data_params_dict[\"worm_capacitances\"]               = np.exp(np.linspace(np.log(2), np.log(100), 10)) * 1e-10\n",
    "data_params_dict[\"worm_radii\"]                      = np.array([5, 12.5]) * 1e-3\n",
    "data_params_dict[\"worm_position_xs\"]                = np.array([-30]) * 1e-3\n",
    "data_params_dict[\"worm_position_ys\"]                = np.array([5, 10]) * 1e-3 + base_fish.get_lateral_semi_axis() + data_params_dict[\"worm_radii\"]\n",
    "data_params_dict[\"worm_position_zs\"]                = np.array([0]) * 1e-3\n",
    "# save params file\n",
    "dill.dump(data_params_dict, open(f\"params/{data_params_dict['save_name']}.pkl\", \"wb\"), protocol=4)"
   ]
  },
  {
   "cell_type": "code",
   "execution_count": 49,
   "metadata": {},
   "outputs": [],
   "source": [
    "import pandas as pd"
   ]
  },
  {
   "cell_type": "code",
   "execution_count": 83,
   "metadata": {},
   "outputs": [],
   "source": [
    "\n",
    "a = pd.DataFrame()\n",
    "a = pd.concat([a, pd.DataFrame(dict(cond=[1,4,3,6], test=[0,2,5,3]))], axis=0, ignore_index=True)\n",
    "a = pd.concat([a, pd.DataFrame(dict(cond=[11,12], test=list(np.random.randn(2,3))), index=[17,19])], axis=0, ignore_index=True)\n",
    "# a.index=np.arange(4)+11"
   ]
  },
  {
   "cell_type": "code",
   "execution_count": 84,
   "metadata": {},
   "outputs": [
    {
     "name": "stdout",
     "output_type": "stream",
     "text": [
      "0\n",
      "cond    1\n",
      "test    0\n",
      "Name: 0, dtype: object\n",
      "1\n"
     ]
    }
   ],
   "source": [
    "for i, r in a.iterrows():\n",
    "    print(i)\n",
    "    print(r)\n",
    "    print(r['cond'])\n",
    "    break"
   ]
  },
  {
   "cell_type": "code",
   "execution_count": 90,
   "metadata": {},
   "outputs": [
    {
     "data": {
      "text/plain": [
       "(array([-0.14019952, -0.61735441, -1.01532722]),\n",
       "    cond                                               test\n",
       " 0     1                                                  0\n",
       " 1     4                                                  2\n",
       " 2     3                                                  5\n",
       " 3     6                                                  3\n",
       " 4    11  [-0.14019951824796612, -0.6173544103108182, -1...\n",
       " 5    12  [0.19762265713741098, -0.21229380681351392, -2...)"
      ]
     },
     "execution_count": 90,
     "metadata": {},
     "output_type": "execute_result"
    }
   ],
   "source": [
    "a[\"test\"][4], a"
   ]
  },
  {
   "cell_type": "code",
   "execution_count": 76,
   "metadata": {},
   "outputs": [
    {
     "data": {
      "text/plain": [
       "((5, 2), 5)"
      ]
     },
     "execution_count": 76,
     "metadata": {},
     "output_type": "execute_result"
    }
   ],
   "source": [
    "a.shape, len(a)"
   ]
  },
  {
   "cell_type": "code",
   "execution_count": 77,
   "metadata": {},
   "outputs": [
    {
     "name": "stdout",
     "output_type": "stream",
     "text": [
      "0 0\n",
      "1 2\n",
      "2 5\n",
      "3 3\n",
      "4 None\n"
     ]
    }
   ],
   "source": [
    "for i, x in enumerate(a[\"test\"]):\n",
    "    print(i, x)"
   ]
  },
  {
   "cell_type": "code",
   "execution_count": 78,
   "metadata": {},
   "outputs": [
    {
     "name": "stdout",
     "output_type": "stream",
     "text": [
      "0\n",
      "cond    1\n",
      "test    0\n",
      "Name: 0, dtype: object\n",
      "\n",
      "1\n",
      "cond    4\n",
      "test    2\n",
      "Name: 1, dtype: object\n",
      "\n",
      "2\n",
      "cond    3\n",
      "test    5\n",
      "Name: 2, dtype: object\n",
      "\n",
      "3\n",
      "cond    6\n",
      "test    3\n",
      "Name: 3, dtype: object\n",
      "\n",
      "4\n",
      "cond      11\n",
      "test    None\n",
      "Name: 4, dtype: object\n",
      "\n"
     ]
    }
   ],
   "source": [
    "for i, x in a.iterrows():\n",
    "    print(i)\n",
    "    print(x)\n",
    "    print()"
   ]
  },
  {
   "cell_type": "code",
   "execution_count": 79,
   "metadata": {},
   "outputs": [
    {
     "name": "stdout",
     "output_type": "stream",
     "text": [
      "float64 torch.float32\n"
     ]
    }
   ],
   "source": [
    "import torch\n",
    "temp1 = np.random.randn(10, 3)\n",
    "temp2 = torch.Tensor(temp1)\n",
    "print(temp1.dtype, temp2.dtype)"
   ]
  },
  {
   "cell_type": "code",
   "execution_count": 80,
   "metadata": {},
   "outputs": [
    {
     "data": {
      "text/html": [
       "<div>\n",
       "<style scoped>\n",
       "    .dataframe tbody tr th:only-of-type {\n",
       "        vertical-align: middle;\n",
       "    }\n",
       "\n",
       "    .dataframe tbody tr th {\n",
       "        vertical-align: top;\n",
       "    }\n",
       "\n",
       "    .dataframe thead th {\n",
       "        text-align: right;\n",
       "    }\n",
       "</style>\n",
       "<table border=\"1\" class=\"dataframe\">\n",
       "  <thead>\n",
       "    <tr style=\"text-align: right;\">\n",
       "      <th></th>\n",
       "      <th>cond</th>\n",
       "      <th>test</th>\n",
       "    </tr>\n",
       "  </thead>\n",
       "  <tbody>\n",
       "    <tr>\n",
       "      <th>0</th>\n",
       "      <td>1</td>\n",
       "      <td>0</td>\n",
       "    </tr>\n",
       "    <tr>\n",
       "      <th>1</th>\n",
       "      <td>4</td>\n",
       "      <td>2</td>\n",
       "    </tr>\n",
       "    <tr>\n",
       "      <th>2</th>\n",
       "      <td>3</td>\n",
       "      <td>5</td>\n",
       "    </tr>\n",
       "    <tr>\n",
       "      <th>3</th>\n",
       "      <td>6</td>\n",
       "      <td>3</td>\n",
       "    </tr>\n",
       "    <tr>\n",
       "      <th>4</th>\n",
       "      <td>11</td>\n",
       "      <td>None</td>\n",
       "    </tr>\n",
       "  </tbody>\n",
       "</table>\n",
       "</div>"
      ],
      "text/plain": [
       "   cond  test\n",
       "0     1     0\n",
       "1     4     2\n",
       "2     3     5\n",
       "3     6     3\n",
       "4    11  None"
      ]
     },
     "execution_count": 80,
     "metadata": {},
     "output_type": "execute_result"
    }
   ],
   "source": [
    "a"
   ]
  },
  {
   "cell_type": "code",
   "execution_count": 95,
   "metadata": {},
   "outputs": [
    {
     "data": {
      "text/plain": [
       "time.struct_time(tm_year=2024, tm_mon=5, tm_mday=24, tm_hour=19, tm_min=26, tm_sec=15, tm_wday=4, tm_yday=145, tm_isdst=0)"
      ]
     },
     "execution_count": 95,
     "metadata": {},
     "output_type": "execute_result"
    }
   ],
   "source": [
    "time.gmtime()"
   ]
  },
  {
   "cell_type": "code",
   "execution_count": 96,
   "metadata": {},
   "outputs": [
    {
     "ename": "AttributeError",
     "evalue": "module 'time' has no attribute 'now'",
     "output_type": "error",
     "traceback": [
      "\u001b[0;31m---------------------------------------------------------------------------\u001b[0m",
      "\u001b[0;31mAttributeError\u001b[0m                            Traceback (most recent call last)",
      "Cell \u001b[0;32mIn[96], line 1\u001b[0m\n\u001b[0;32m----> 1\u001b[0m time\u001b[38;5;241m.\u001b[39mnow()\n",
      "\u001b[0;31mAttributeError\u001b[0m: module 'time' has no attribute 'now'"
     ]
    }
   ],
   "source": [
    "time.now()"
   ]
  },
  {
   "cell_type": "code",
   "execution_count": 108,
   "metadata": {},
   "outputs": [
    {
     "data": {
      "text/plain": [
       "'2024_05_24-T-15:46:06'"
      ]
     },
     "execution_count": 108,
     "metadata": {},
     "output_type": "execute_result"
    }
   ],
   "source": [
    "(datetime.datetime.now() + datetime.timedelta(seconds=1000)).strftime('%Y_%m_%d-T-%H:%M:%S')"
   ]
  },
  {
   "cell_type": "code",
   "execution_count": 111,
   "metadata": {},
   "outputs": [
    {
     "data": {
      "text/plain": [
       "(1, 2, 14.230000000000018)"
      ]
     },
     "execution_count": 111,
     "metadata": {},
     "output_type": "execute_result"
    }
   ],
   "source": [
    "3734 // 3600, 3734 % 3600 // 60, 3734.23 % 60"
   ]
  },
  {
   "cell_type": "code",
   "execution_count": 114,
   "metadata": {},
   "outputs": [
    {
     "data": {
      "text/plain": [
       "[[-80.0],\n",
       " [-70.0],\n",
       " [-60.0],\n",
       " [-50.0],\n",
       " [-40.0],\n",
       " [-30.0],\n",
       " [-20.0],\n",
       " [-10.0],\n",
       " [0.0],\n",
       " [10.0],\n",
       " [20.0],\n",
       " [30.0],\n",
       " [40.0],\n",
       " [50.0],\n",
       " [60.0],\n",
       " [70.0],\n",
       " [80.0],\n",
       " [15, 5],\n",
       " []]"
      ]
     },
     "execution_count": 114,
     "metadata": {},
     "output_type": "execute_result"
    }
   ],
   "source": [
    "[list(x) for x in np.linspace(-80,80,17).reshape(-1,1)] + [[15,5]] + [[]]"
   ]
  },
  {
   "cell_type": "code",
   "execution_count": 112,
   "metadata": {},
   "outputs": [],
   "source": [
    "from pathlib import Path\n",
    "Path(\"processed/dset1\").mkdir(parents=True, exist_ok=True)"
   ]
  },
  {
   "cell_type": "code",
   "execution_count": 113,
   "metadata": {},
   "outputs": [],
   "source": [
    "Path(\"processed/dset1\").mkdir(parents=True, exist_ok=True)"
   ]
  },
  {
   "cell_type": "code",
   "execution_count": null,
   "metadata": {},
   "outputs": [],
   "source": []
  },
  {
   "cell_type": "code",
   "execution_count": 42,
   "metadata": {},
   "outputs": [
    {
     "name": "stdout",
     "output_type": "stream",
     "text": [
      "Time to generate: 0.03670191764831543\n",
      "Time to write: 0.007992029190063477\n",
      "Time to write individual: 3.2821009159088135\n"
     ]
    }
   ],
   "source": [
    "import h5py\n",
    "import time\n",
    "\n",
    "d1 = 10000\n",
    "d2 = 100\n",
    "d3 = 3\n",
    "\n",
    "t0= time.time()\n",
    "my_arr = np.random.randn(d1, d2, d3).astype(np.float64)\n",
    "t1= time.time()\n",
    "print(f\"Time to generate: {t1 - t0}\")\n",
    "\n",
    "t0 = time.time()\n",
    "with h5py.File(f\"/Users/denisturcu/Desktop/test.hdf5\", \"w\") as f:\n",
    "    dset = f.create_dataset(\n",
    "        \"tst\",\n",
    "        (d1, d2, d3),\n",
    "        dtype=np.float32,\n",
    "    )\n",
    "    dset[:] = my_arr\n",
    "t1 = time.time()\n",
    "print(f\"Time to write: {t1 - t0}\")\n",
    "\n",
    "t0 = time.time()\n",
    "for i in range(d1):\n",
    "    with h5py.File(f\"/Users/denisturcu/Desktop//individual/test-{i}.hdf5\", \"w\") as f:\n",
    "        dset = f.create_dataset(\n",
    "            \"tst\",\n",
    "            (d2, d3),\n",
    "            dtype=np.float32,\n",
    "        )\n",
    "        dset[:] = my_arr[i]\n",
    "t1 = time.time()\n",
    "print(f\"Time to write individual: {t1 - t0}\")\n",
    "del my_arr"
   ]
  },
  {
   "cell_type": "code",
   "execution_count": 43,
   "metadata": {},
   "outputs": [
    {
     "name": "stdout",
     "output_type": "stream",
     "text": [
      "Time to read: 0.2669639587402344\n",
      "Time to read 2: 0.39317989349365234\n",
      "Time to read individual: 0.7796530723571777\n"
     ]
    }
   ],
   "source": [
    "f = h5py.File(f\"/Users/denisturcu/Desktop//test.hdf5\", \"r\")\n",
    "temp_ids = np.sort(np.random.permutation(d1)[:5000])\n",
    "t0 = time.time()\n",
    "temp = f[\"tst\"][temp_ids]\n",
    "t1 = time.time()\n",
    "print(f\"Time to read: {t1 - t0}\")\n",
    "\n",
    "t0 = time.time()\n",
    "temp2 = np.zeros((len(temp_ids), d2, d3), dtype=np.float32)\n",
    "for i, ii in enumerate(temp_ids):\n",
    "    temp2[i] = f[\"tst\"][ii]\n",
    "t1 = time.time()\n",
    "print(f\"Time to read 2: {t1 - t0}\")\n",
    "\n",
    "t0 = time.time()\n",
    "temp3 = np.zeros((len(temp_ids), d2, d3), dtype=np.float32)\n",
    "for i, ii in enumerate(temp_ids):\n",
    "    f = h5py.File(f\"/Users/denisturcu/Desktop//individual/test-{ii}.hdf5\", \"r\")\n",
    "    temp3[i] = f[\"tst\"][:]\n",
    "t1 = time.time()\n",
    "print(f\"Time to read individual: {t1 - t0}\")\n",
    "f.close()"
   ]
  },
  {
   "cell_type": "code",
   "execution_count": 39,
   "metadata": {},
   "outputs": [
    {
     "name": "stdout",
     "output_type": "stream",
     "text": [
      "Time to read: 0.0018780231475830078\n"
     ]
    }
   ],
   "source": [
    "# f = h5py.File(f\"/Users/denisturcu/Desktop//test.hdf5\", \"r\")\n",
    "# t0 = time.time()\n",
    "# temp = f[\"tst\"][d1-40000:]\n",
    "# t1 = time.time()\n",
    "# print(f\"Time to read: {t1 - t0}\")"
   ]
  },
  {
   "cell_type": "code",
   "execution_count": 47,
   "metadata": {},
   "outputs": [],
   "source": [
    "f.close()"
   ]
  },
  {
   "cell_type": "code",
   "execution_count": 44,
   "metadata": {},
   "outputs": [
    {
     "ename": "ValueError",
     "evalue": "Invalid location identifier (invalid location identifier)",
     "output_type": "error",
     "traceback": [
      "\u001b[0;31m---------------------------------------------------------------------------\u001b[0m",
      "\u001b[0;31mValueError\u001b[0m                                Traceback (most recent call last)",
      "Cell \u001b[0;32mIn[44], line 1\u001b[0m\n\u001b[0;32m----> 1\u001b[0m f[\u001b[38;5;124m\"\u001b[39m\u001b[38;5;124mtst\u001b[39m\u001b[38;5;124m\"\u001b[39m][:]\n",
      "File \u001b[0;32mh5py/_objects.pyx:54\u001b[0m, in \u001b[0;36mh5py._objects.with_phil.wrapper\u001b[0;34m()\u001b[0m\n",
      "File \u001b[0;32mh5py/_objects.pyx:55\u001b[0m, in \u001b[0;36mh5py._objects.with_phil.wrapper\u001b[0;34m()\u001b[0m\n",
      "File \u001b[0;32m/opt/anaconda3/envs/efish/lib/python3.11/site-packages/h5py/_hl/group.py:357\u001b[0m, in \u001b[0;36mGroup.__getitem__\u001b[0;34m(self, name)\u001b[0m\n\u001b[1;32m    355\u001b[0m         \u001b[38;5;28;01mraise\u001b[39;00m \u001b[38;5;167;01mValueError\u001b[39;00m(\u001b[38;5;124m\"\u001b[39m\u001b[38;5;124mInvalid HDF5 object reference\u001b[39m\u001b[38;5;124m\"\u001b[39m)\n\u001b[1;32m    356\u001b[0m \u001b[38;5;28;01melif\u001b[39;00m \u001b[38;5;28misinstance\u001b[39m(name, (\u001b[38;5;28mbytes\u001b[39m, \u001b[38;5;28mstr\u001b[39m)):\n\u001b[0;32m--> 357\u001b[0m     oid \u001b[38;5;241m=\u001b[39m h5o\u001b[38;5;241m.\u001b[39mopen(\u001b[38;5;28mself\u001b[39m\u001b[38;5;241m.\u001b[39mid, \u001b[38;5;28mself\u001b[39m\u001b[38;5;241m.\u001b[39m_e(name), lapl\u001b[38;5;241m=\u001b[39m\u001b[38;5;28mself\u001b[39m\u001b[38;5;241m.\u001b[39m_lapl)\n\u001b[1;32m    358\u001b[0m \u001b[38;5;28;01melse\u001b[39;00m:\n\u001b[1;32m    359\u001b[0m     \u001b[38;5;28;01mraise\u001b[39;00m \u001b[38;5;167;01mTypeError\u001b[39;00m(\u001b[38;5;124m\"\u001b[39m\u001b[38;5;124mAccessing a group is done with bytes or str, \u001b[39m\u001b[38;5;124m\"\u001b[39m\n\u001b[1;32m    360\u001b[0m                     \u001b[38;5;124m\"\u001b[39m\u001b[38;5;124mnot \u001b[39m\u001b[38;5;132;01m{}\u001b[39;00m\u001b[38;5;124m\"\u001b[39m\u001b[38;5;241m.\u001b[39mformat(\u001b[38;5;28mtype\u001b[39m(name)))\n",
      "File \u001b[0;32mh5py/_objects.pyx:54\u001b[0m, in \u001b[0;36mh5py._objects.with_phil.wrapper\u001b[0;34m()\u001b[0m\n",
      "File \u001b[0;32mh5py/_objects.pyx:55\u001b[0m, in \u001b[0;36mh5py._objects.with_phil.wrapper\u001b[0;34m()\u001b[0m\n",
      "File \u001b[0;32mh5py/h5o.pyx:190\u001b[0m, in \u001b[0;36mh5py.h5o.open\u001b[0;34m()\u001b[0m\n",
      "\u001b[0;31mValueError\u001b[0m: Invalid location identifier (invalid location identifier)"
     ]
    }
   ],
   "source": [
    "f[\"tst\"][:]"
   ]
  },
  {
   "cell_type": "code",
   "execution_count": 48,
   "metadata": {},
   "outputs": [
    {
     "data": {
      "text/plain": [
       "type"
      ]
     },
     "execution_count": 48,
     "metadata": {},
     "output_type": "execute_result"
    }
   ],
   "source": [
    "type(np.float32)"
   ]
  },
  {
   "cell_type": "code",
   "execution_count": 13,
   "metadata": {},
   "outputs": [],
   "source": [
    "# Time to read: 0.03277420997619629\n",
    "# Time to read 2: 0.08377718925476074\n",
    "# Time to read individual: 0.16527891159057617"
   ]
  },
  {
   "cell_type": "code",
   "execution_count": 117,
   "metadata": {},
   "outputs": [
    {
     "data": {
      "text/plain": [
       "array([7.5, 7.5])"
      ]
     },
     "execution_count": 117,
     "metadata": {},
     "output_type": "execute_result"
    }
   ],
   "source": [
    "np.diff([50], prepend=0, append=100) * 15 / 100"
   ]
  },
  {
   "cell_type": "code",
   "execution_count": 118,
   "metadata": {},
   "outputs": [
    {
     "data": {
      "text/plain": [
       "0"
      ]
     },
     "execution_count": 118,
     "metadata": {},
     "output_type": "execute_result"
    }
   ],
   "source": [
    "len([])"
   ]
  },
  {
   "cell_type": "code",
   "execution_count": null,
   "metadata": {},
   "outputs": [],
   "source": []
  },
  {
   "cell_type": "code",
   "execution_count": null,
   "metadata": {},
   "outputs": [],
   "source": []
  },
  {
   "cell_type": "code",
   "execution_count": null,
   "metadata": {},
   "outputs": [],
   "source": []
  },
  {
   "cell_type": "code",
   "execution_count": null,
   "metadata": {},
   "outputs": [],
   "source": []
  },
  {
   "cell_type": "code",
   "execution_count": null,
   "metadata": {},
   "outputs": [],
   "source": []
  },
  {
   "cell_type": "code",
   "execution_count": null,
   "metadata": {},
   "outputs": [],
   "source": []
  },
  {
   "cell_type": "code",
   "execution_count": null,
   "metadata": {},
   "outputs": [],
   "source": []
  },
  {
   "cell_type": "code",
   "execution_count": null,
   "metadata": {},
   "outputs": [],
   "source": []
  },
  {
   "cell_type": "code",
   "execution_count": null,
   "metadata": {},
   "outputs": [],
   "source": []
  },
  {
   "cell_type": "code",
   "execution_count": null,
   "metadata": {},
   "outputs": [],
   "source": []
  },
  {
   "cell_type": "code",
   "execution_count": null,
   "metadata": {},
   "outputs": [],
   "source": []
  },
  {
   "cell_type": "code",
   "execution_count": null,
   "metadata": {},
   "outputs": [],
   "source": []
  },
  {
   "cell_type": "code",
   "execution_count": null,
   "metadata": {},
   "outputs": [],
   "source": []
  },
  {
   "cell_type": "code",
   "execution_count": null,
   "metadata": {},
   "outputs": [],
   "source": []
  },
  {
   "cell_type": "code",
   "execution_count": null,
   "metadata": {},
   "outputs": [],
   "source": []
  },
  {
   "cell_type": "markdown",
   "metadata": {},
   "source": [
    "## Misc - previous param dicts for reference"
   ]
  },
  {
   "cell_type": "code",
   "execution_count": null,
   "metadata": {},
   "outputs": [],
   "source": [
    "# Create Data Params Dict\n",
    "data_params_dict = {}\n",
    "# data_params_dict['save_file_name']                  = 'data_240411_SpatialProcessing_MovingObject_7by15'\n",
    "data_params_dict['save_file_name']                  = 'data_240425_Detection_1050_receptors_HighContrast'\n",
    "# aquarium properties\n",
    "data_params_dict['water_conductivities']            = [0.01]\n",
    "data_params_dict['boundary_displacements']          = [[-1e9]]\n",
    "data_params_dict['boundary_normals']                =  [[0,0,1]]\n",
    "# fish properties\n",
    "data_params_dict['fish_obj']                        = base_fish\n",
    "data_params_dict['fish_bend_angle_lateral']         = [[0]]\n",
    "data_params_dict['fish_bend_angle_dorso_ventral']   = [[0]]\n",
    "data_params_dict['fish_bend_location_percentages']  = [[0]]\n",
    "data_params_dict['fish_yaw']                        = [0]\n",
    "data_params_dict['fish_pitch']                      = [0]\n",
    "data_params_dict['fish_roll']                       = [0]\n",
    "# worm properties\n",
    "# data_params_dict['worm_resistances']                = np.exp(np.linspace(np.log(2), np.log(100), 5)) * 1e3\n",
    "data_params_dict['worm_resistances']                = np.array([2e3, 100e3])  # HighContrast\n",
    "data_params_dict['worm_capacitances']               = np.exp(np.linspace(np.log(2), np.log(100), 5)) * 1e-10  # HighContrast when paired with HighContrast resistances\n",
    "# data_params_dict['worm_capacitances']               = np.array([2e-10])  # HighContrast\n",
    "data_params_dict['worm_radii']                      = np.array([12.5]) * 1e-3\n",
    "data_params_dict['worm_position_xs']                = np.array([-30]) * 1e-3   # - np.arange(101) * 3e-4\n",
    "data_params_dict['worm_position_ys']                = (5 * np.power(np.sqrt(1.33), np.arange(25))).round(0) * 1e-3 + base_fish.lat_ax + data_params_dict['worm_radii']\n",
    "data_params_dict['worm_position_zs']                = np.array([0]) * 1e-3\n",
    "# save params file\n",
    "dill.dump(data_params_dict, open('../data/params/' + data_params_dict['save_file_name'] + '_params_dict.pkl', 'wb'), protocol=4)"
   ]
  },
  {
   "cell_type": "code",
   "execution_count": null,
   "metadata": {},
   "outputs": [],
   "source": [
    "# Create Data Params Dict\n",
    "data_params_dict = {}\n",
    "data_params_dict['save_file_name']                  = 'data_231116_SpatialProcessing_MovingObject_11by25'\n",
    "# aquarium properties\n",
    "data_params_dict['water_conductivities']            = [0.01]  # np.array([100, 300, 600]) * 1e-6 / 1e-2\n",
    "data_params_dict['boundary_displacements']          = [[-1e9]]\n",
    "                                                      # [[-1e9]+list(-np.arange(35, 70, 5)[::-1]*1e-3),\n",
    "                                                      #  [-1e9]+list(-np.arange(35, 70, 5)[::-1]*1e-3), \n",
    "                                                      #  [-1e9]+list(-np.arange(35, 70, 5)[::-1]*1e-3)]\n",
    "                                                    #  [[-1e9]+list(-np.linspace(5*base_fish.roc_ax, base_fish.roc_ax, 9)), ]  # \n",
    "                                                    #    [-1e9]+list(-np.linspace(0.058, 0.022, 9)),\n",
    "                                                    #    [-1e9]+list(-np.linspace(0.058, 0.022, 9))]\n",
    "data_params_dict['boundary_normals']                =  [[0,0,1]]\n",
    "                                                      # [[0,0,1], [0,-1,0], [0,1,0]]\n",
    "      #  [[0,0,1], ]  #\n",
    "      #    [0,-1,0],\n",
    "      #    [0,1,0]]\n",
    "# fish properties\n",
    "data_params_dict['fish_obj']                        = base_fish\n",
    "data_params_dict['fish_bend_angle_lateral']         = [[0]]#[[x] for x in np.linspace(-60,60,25)]\n",
    "data_params_dict['fish_bend_angle_dorso_ventral']   = [[0]]#[[0]]\n",
    "data_params_dict['fish_bend_location_percentages']  = [[0]]#[[60]]\n",
    "data_params_dict['fish_yaw']                        = [0]\n",
    "data_params_dict['fish_pitch']                      = [0]\n",
    "data_params_dict['fish_roll']                       = [0]\n",
    "# worm properties\n",
    "data_params_dict['worm_resistances']                = np.exp(np.linspace(np.log(2), np.log(100), 5)) * 1e3\n",
    "data_params_dict['worm_capacitances']               = np.exp(np.linspace(np.log(2), np.log(100), 5)) * 1e-10\n",
    "data_params_dict['worm_radii']                      = np.array([12.5]) * 1e-3\n",
    "data_params_dict['worm_position_xs']                = np.array([-30]) * 1e-3 - np.arange(11) * 3e-3\n",
    "data_params_dict['worm_position_ys']                = np.array([5,10,15,30,50,70,100,150]) * 1e-3 + base_fish.lat_ax + data_params_dict['worm_radii']\n",
    "data_params_dict['worm_position_zs']                = np.array([0]) * 1e-3\n",
    "# save params file\n",
    "dill.dump(data_params_dict, open('../data/params/' + data_params_dict['save_file_name'] + '_params_dict.pkl', 'wb'), protocol=4)"
   ]
  },
  {
   "cell_type": "code",
   "execution_count": null,
   "metadata": {},
   "outputs": [],
   "source": [
    "# Create Data Params Dict\n",
    "data_params_dict = {}\n",
    "data_params_dict['save_file_name']                  = 'data_240311_falloff_with_distance_and_radius'\n",
    "# aquarium properties\n",
    "data_params_dict['water_conductivities']            = np.array([100]) * 1e-6 / 1e-2\n",
    "data_params_dict['boundary_displacements']          = [[-1e9]]\n",
    "data_params_dict['boundary_normals']                =  [[0,0,1]]\n",
    "# fish properties\n",
    "data_params_dict['fish_obj']                        = base_fish\n",
    "data_params_dict['fish_bend_angle_lateral']         = [[0]]\n",
    "data_params_dict['fish_bend_angle_dorso_ventral']   = [[0]]\n",
    "data_params_dict['fish_bend_location_percentages']  = [[0]]\n",
    "data_params_dict['fish_yaw']                        = [0]\n",
    "data_params_dict['fish_pitch']                      = [0]\n",
    "data_params_dict['fish_roll']                       = [0]\n",
    "# worm properties\n",
    "data_params_dict['worm_resistances']                = np.array([500,50000])\n",
    "data_params_dict['worm_capacitances']               = np.array([2e-10])\n",
    "data_params_dict['worm_radii']                      = np.arange(5,11) * 1e-3\n",
    "data_params_dict['worm_position_xs']                = np.array([-30]) * 1e-3\n",
    "data_params_dict['worm_position_ys']                = np.arange(10,201) * 1e-3 + base_fish.lat_ax\n",
    "data_params_dict['worm_position_zs']                = np.array([0]) * 1e-3\n",
    "# save params file\n",
    "dill.dump(data_params_dict, open('../data/params/' + data_params_dict['save_file_name'] + '_params_dict.pkl', 'wb'), protocol=4)"
   ]
  },
  {
   "cell_type": "code",
   "execution_count": null,
   "metadata": {},
   "outputs": [],
   "source": []
  }
 ],
 "metadata": {
  "kernelspec": {
   "display_name": "Python 3.7.6 ('fish_PT')",
   "language": "python",
   "name": "python3"
  },
  "language_info": {
   "codemirror_mode": {
    "name": "ipython",
    "version": 3
   },
   "file_extension": ".py",
   "mimetype": "text/x-python",
   "name": "python",
   "nbconvert_exporter": "python",
   "pygments_lexer": "ipython3",
   "version": "3.11.7"
  },
  "vscode": {
   "interpreter": {
    "hash": "6ad226b9bd45bab16b521a40b87b0c0819cb92a301ab41030f1182bd53c1fc03"
   }
  }
 },
 "nbformat": 4,
 "nbformat_minor": 4
}
