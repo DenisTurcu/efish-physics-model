{
 "cells": [
  {
   "cell_type": "code",
   "execution_count": 1,
   "metadata": {},
   "outputs": [],
   "source": [
    "%load_ext autoreload\n",
    "%autoreload 2"
   ]
  },
  {
   "cell_type": "code",
   "execution_count": 2,
   "metadata": {},
   "outputs": [],
   "source": [
    "import sys\n",
    "import dill\n",
    "import numpy as np\n",
    "import scipy.io as io\n",
    "import datetime\n",
    "\n",
    "sys.path.append('../helper_functions')\n",
    "sys.path.append('helper_functions')\n",
    "sys.path.append('../objects')\n",
    "sys.path.append('objects')"
   ]
  },
  {
   "cell_type": "code",
   "execution_count": 3,
   "metadata": {},
   "outputs": [
    {
     "data": {
      "text/plain": [
       "'Success!'"
      ]
     },
     "execution_count": 3,
     "metadata": {},
     "output_type": "execute_result"
    }
   ],
   "source": [
    "from FishGeneration import FishGeneration\n",
    "from Fish_IceCreamCone import IceCreamConeFish\n",
    "from Fish_Capsule import CapsuleFish\n",
    "\n",
    "from assertion_tests import run_tests\n",
    "run_tests()"
   ]
  },
  {
   "cell_type": "markdown",
   "metadata": {},
   "source": [
    "## Load fish details"
   ]
  },
  {
   "cell_type": "markdown",
   "metadata": {},
   "source": [
    "#### the EOD waveform"
   ]
  },
  {
   "cell_type": "code",
   "execution_count": 4,
   "metadata": {},
   "outputs": [],
   "source": [
    "# use a dummy EOD until real EOD is available in this framework\n",
    "full_eod = np.linspace(0, 2 * np.pi, 1000)\n",
    "full_eod = np.sin(full_eod) * full_eod * np.exp(-((full_eod - np.pi) ** 2) / (2 * (np.pi / 6) ** 2))"
   ]
  },
  {
   "cell_type": "markdown",
   "metadata": {},
   "source": [
    "#### the receptor filters"
   ]
  },
  {
   "cell_type": "code",
   "execution_count": 5,
   "metadata": {},
   "outputs": [
    {
     "data": {
      "text/plain": [
       "(2, 1000)"
      ]
     },
     "execution_count": 5,
     "metadata": {},
     "output_type": "execute_result"
    }
   ],
   "source": [
    "# use dummy filters until real filters are available in this framework\n",
    "receptor_filters = np.random.randn(2, *full_eod.shape)\n",
    "receptor_filters.shape"
   ]
  },
  {
   "cell_type": "markdown",
   "metadata": {},
   "source": [
    "#### check the input arguments for the wanted fish object (helps with creating fish objects)"
   ]
  },
  {
   "cell_type": "code",
   "execution_count": 6,
   "metadata": {},
   "outputs": [
    {
     "name": "stdout",
     "output_type": "stream",
     "text": [
      "conductivity=1,\n",
      "relative_permittivity=1,\n",
      "receptors_locations=np.array([]).reshape(0,3),\n",
      "receptors_normals=np.array([]).reshape(0,3),\n",
      "point_currents_magnitudes=np.array([]).reshape(0),\n",
      "point_currents_locations=np.array([]).reshape(0,3),\n",
      "receptor_filters=np.array([]).reshape(0,1000),\n",
      "eod_wave_form=np.arange(1000),\n",
      "skin_resistivity=1,\n",
      "sampling_rate=(2.5, \"M\"),  # MHz,\n",
      "eod_delay=(0,), # s,\n",
      "nose_position=[0,0,0],\n",
      "fish_length=1,\n",
      "angle_yaw=0,\n",
      "angle_pitch=0,\n",
      "angle_roll=0,\n",
      "relative_bend_locations_percentage=np.array([]),\n",
      "relative_bend_angle_lateral=(np.array([]),\"deg\"),\n",
      "relative_bend_angle_dorso_ventral =(np.array([]),\"deg\"),\n",
      "point_currents_range_percentage=dict(start=0, end=100),\n",
      "N_point_currents=101,\n",
      "point_currents_magnitude_scale=1,\n",
      "receptors_init=dict(method=\"random\", head=100, body=200),\n",
      "vertical_semi_axis,\n",
      "lateral_semi_axis=None,\n",
      "rostrocaudal_semi_axis=None,\n",
      "rostrocaudal_semi_axis_tail=None,\n"
     ]
    }
   ],
   "source": [
    "for x in CapsuleFish._initialize_input_argument_names():\n",
    "    print(f'{x},')"
   ]
  },
  {
   "cell_type": "markdown",
   "metadata": {},
   "source": [
    "## Dataset: YYYY_MM_DD Purpose"
   ]
  },
  {
   "cell_type": "code",
   "execution_count": null,
   "metadata": {},
   "outputs": [],
   "source": []
  },
  {
   "cell_type": "markdown",
   "metadata": {},
   "source": [
    "## Dataset: 2024_05_23 Test"
   ]
  },
  {
   "cell_type": "code",
   "execution_count": 15,
   "metadata": {},
   "outputs": [
    {
     "name": "stdout",
     "output_type": "stream",
     "text": [
      "2024_05_23\n"
     ]
    }
   ],
   "source": [
    "print(datetime.datetime.now().strftime('%Y_%m_%d'))"
   ]
  },
  {
   "cell_type": "code",
   "execution_count": 16,
   "metadata": {},
   "outputs": [],
   "source": [
    "dataset_name = 'data-2024_05_23-test'"
   ]
  },
  {
   "cell_type": "markdown",
   "metadata": {},
   "source": [
    "#### create the Fish object"
   ]
  },
  {
   "cell_type": "code",
   "execution_count": 30,
   "metadata": {},
   "outputs": [
    {
     "name": "stdout",
     "output_type": "stream",
     "text": [
      "Success!\n"
     ]
    }
   ],
   "source": [
    "base_fish = CapsuleFish(\n",
    "    receptor_filters=receptor_filters,\n",
    "    eod_wave_form=full_eod,\n",
    "    skin_resistivity=(3, \"k\", \"c.2\"),  # 3 kOhm.cm^2\n",
    "    sampling_rate=(2.5, \"M\"),  # 2.5 MHz,\n",
    "    nose_position=[0, 0, 0],\n",
    "    fish_length=(15, \"c\"),\n",
    "    angle_yaw=(0, \"deg\"),\n",
    "    angle_pitch=(0, \"deg\"),\n",
    "    angle_roll=(0, \"deg\"),\n",
    "    relative_bend_locations_percentage=np.array([]),\n",
    "    relative_bend_angle_lateral=(np.array([]), \"deg\"),\n",
    "    relative_bend_angle_dorso_ventral=(np.array([]), \"deg\"),\n",
    "    # receptors_init=dict(\n",
    "    #     method=\"grid_uniDense\",\n",
    "    #     head_t=0,\n",
    "    #     head_u=0,\n",
    "    #     tail_t=0,\n",
    "    #     tail_u=0,\n",
    "    #     body_t=60,\n",
    "    #     body_u=30,\n",
    "    # ),\n",
    "    # vertical_semi_axis=(2.0, \"c\"),\n",
    "    # lateral_semi_axis=(0.9, \"c\"),\n",
    "    # rostrocaudal_semi_axis=0,\n",
    "    # rostrocaudal_semi_axis_tail=0,\n",
    "    receptors_init=dict(\n",
    "        method=\"manual\",\n",
    "        locations=np.array([[15e-2 - 18e-3, 9e-3, 0], [15e-2 - 20e-3, 9e-3, 0], [15e-2 - 22e-3, 9e-3, 0]]).reshape(\n",
    "            -1, 3\n",
    "        ),\n",
    "        normals=np.array([[0, 1, 0], [0, 1, 0], [0, 1, 0]]).reshape(-1, 3),\n",
    "    ),\n",
    ")\n",
    "\n",
    "dill.dump(base_fish, open(f\"base-fish/{dataset_name}.pkl\", \"wb\"), protocol=4)\n",
    "base_fish = dill.load(open(f\"base-fish/{dataset_name}.pkl\", \"rb\"))"
   ]
  },
  {
   "cell_type": "markdown",
   "metadata": {},
   "source": [
    "#### visualize fish object for inspection"
   ]
  },
  {
   "cell_type": "code",
   "execution_count": 33,
   "metadata": {},
   "outputs": [
    {
     "data": {
      "application/vnd.plotly.v1+json": {
       "config": {
        "plotlyServerURL": "https://plot.ly"
       },
       "data": [
        {
         "marker": {
          "color": [
           0.01,
           0.01,
           0.01,
           0.01,
           0.01,
           0.01,
           0.01,
           0.01,
           0.01,
           0.01,
           0.01,
           0.01,
           0.01,
           0.01,
           0.01,
           0.01,
           0.01,
           0.01,
           0.01,
           0.01,
           0.01,
           0.01,
           0.01,
           0.01,
           0.01,
           0.01,
           0.01,
           0.01,
           0.01,
           0.01,
           0.01,
           0.01,
           0.01,
           0.01,
           0.01,
           0.01,
           0.01,
           0.01,
           0.01,
           0.01,
           0.01,
           0.01,
           0.01,
           0.01,
           0.01,
           0.01,
           0.01,
           0.01,
           0.01,
           0.01,
           0.01,
           0.01,
           0.01,
           0.01,
           0.01,
           0.01,
           0.01,
           0.01,
           0.01,
           0.01,
           0.01,
           0.01,
           0.01,
           0.01,
           0.01,
           0.01,
           0.01,
           0.01,
           0.01,
           0.01,
           0.01,
           0.01,
           0.01,
           0.01,
           0.01,
           0.01,
           0.01,
           0.01,
           0.01,
           0.01,
           0.01,
           0.01,
           0.01,
           0.01,
           0.01,
           0.01,
           0.01,
           0.01,
           0.01,
           0.01,
           0.01,
           0.01,
           0.01,
           0.01,
           0.01,
           0.01,
           0.01,
           0.01,
           0.01,
           0.01,
           -1
          ],
          "colorscale": [
           [
            0,
            "rgb(0,0,255)"
           ],
           [
            1,
            "rgb(255,0,0)"
           ]
          ],
          "opacity": 1,
          "size": 3
         },
         "mode": "markers",
         "showlegend": false,
         "type": "scatter3d",
         "x": [
          0,
          -1.5000000000000013,
          -3.0000000000000027,
          -4.5000000000000036,
          -6.000000000000005,
          -7.500000000000006,
          -9.000000000000007,
          -10.500000000000009,
          -12.00000000000001,
          -13.500000000000012,
          -14.999999999999986,
          -16.499999999999986,
          -17.99999999999999,
          -19.49999999999999,
          -20.99999999999999,
          -22.499999999999993,
          -23.999999999999993,
          -25.499999999999993,
          -26.999999999999996,
          -28.499999999999996,
          -30,
          -31.5,
          -33,
          -34.5,
          -36,
          -37.50000000000001,
          -39.00000000000001,
          -40.50000000000001,
          -42.00000000000001,
          -43.50000000000001,
          -45,
          -46.5,
          -48,
          -49.5,
          -51,
          -52.49999999999999,
          -53.99999999999999,
          -55.49999999999999,
          -56.99999999999999,
          -58.49999999999999,
          -60,
          -61.5,
          -63,
          -64.5,
          -66,
          -67.5,
          -69,
          -70.5,
          -72,
          -73.5,
          -75,
          -76.5,
          -78,
          -79.5,
          -81,
          -82.5,
          -84,
          -85.5,
          -87,
          -88.5,
          -90,
          -91.5,
          -93,
          -94.5,
          -96,
          -97.5,
          -99,
          -100.5,
          -102,
          -103.5,
          -105,
          -106.5,
          -108,
          -109.5,
          -111,
          -112.5,
          -114,
          -115.5,
          -117,
          -118.5,
          -120,
          -121.5,
          -123,
          -124.5,
          -126,
          -127.5,
          -129,
          -130.5,
          -132,
          -133.5,
          -135,
          -136.5,
          -138,
          -139.5,
          -141,
          -142.5,
          -144,
          -145.5,
          -147,
          -148.5,
          -150
         ],
         "y": [
          0,
          0,
          0,
          0,
          0,
          0,
          0,
          0,
          0,
          0,
          0,
          0,
          0,
          0,
          0,
          0,
          0,
          0,
          0,
          0,
          0,
          0,
          0,
          0,
          0,
          0,
          0,
          0,
          0,
          0,
          0,
          0,
          0,
          0,
          0,
          0,
          0,
          0,
          0,
          0,
          0,
          0,
          0,
          0,
          0,
          0,
          0,
          0,
          0,
          0,
          0,
          0,
          0,
          0,
          0,
          0,
          0,
          0,
          0,
          0,
          0,
          0,
          0,
          0,
          0,
          0,
          0,
          0,
          0,
          0,
          0,
          0,
          0,
          0,
          0,
          0,
          0,
          0,
          0,
          0,
          0,
          0,
          0,
          0,
          0,
          0,
          0,
          0,
          0,
          0,
          0,
          0,
          0,
          0,
          0,
          0,
          0,
          0,
          0,
          0,
          0
         ],
         "z": [
          0,
          0,
          0,
          0,
          0,
          0,
          0,
          0,
          0,
          0,
          0,
          0,
          0,
          0,
          0,
          0,
          0,
          0,
          0,
          0,
          0,
          0,
          0,
          0,
          0,
          0,
          0,
          0,
          0,
          0,
          0,
          0,
          0,
          0,
          0,
          0,
          0,
          0,
          0,
          0,
          0,
          0,
          0,
          0,
          0,
          0,
          0,
          0,
          0,
          0,
          0,
          0,
          0,
          0,
          0,
          0,
          0,
          0,
          0,
          0,
          0,
          0,
          0,
          0,
          0,
          0,
          0,
          0,
          0,
          0,
          0,
          0,
          0,
          0,
          0,
          0,
          0,
          0,
          0,
          0,
          0,
          0,
          0,
          0,
          0,
          0,
          0,
          0,
          0,
          0,
          0,
          0,
          0,
          0,
          0,
          0,
          0,
          0,
          0,
          0,
          0
         ]
        },
        {
         "colorscale": [
          [
           0,
           "rgb(247,251,255)"
          ],
          [
           0.125,
           "rgb(222,235,247)"
          ],
          [
           0.25,
           "rgb(198,219,239)"
          ],
          [
           0.375,
           "rgb(158,202,225)"
          ],
          [
           0.5,
           "rgb(107,174,214)"
          ],
          [
           0.625,
           "rgb(66,146,198)"
          ],
          [
           0.75,
           "rgb(33,113,181)"
          ],
          [
           0.875,
           "rgb(8,81,156)"
          ],
          [
           1,
           "rgb(8,48,107)"
          ]
         ],
         "showlegend": false,
         "showscale": false,
         "sizemode": "absolute",
         "sizeref": 2,
         "type": "cone",
         "u": [
          0,
          0,
          0
         ],
         "v": [
          1,
          1,
          1
         ],
         "w": [
          0,
          0,
          0
         ],
         "x": [
          -17.99999999999999,
          -19.99999999999999,
          -21.999999999999993
         ],
         "y": [
          9,
          9,
          9
         ],
         "z": [
          0,
          0,
          0
         ]
        },
        {
         "marker": {
          "cmax": 1,
          "cmin": 0,
          "color": [
           1,
           0.5,
           0
          ],
          "colorbar": {
           "len": 0.8,
           "tickmode": "array",
           "ticktext": [
            -0.021999999999999992,
            -0.021555555555555547,
            -0.0211111111111111,
            -0.020666666666666656,
            -0.02022222222222221,
            -0.01977777777777777,
            -0.019333333333333324,
            -0.01888888888888888,
            -0.018444444444444433,
            -0.017999999999999988
           ],
           "tickvals": [
            0,
            0.1111111111111111,
            0.2222222222222222,
            0.3333333333333333,
            0.4444444444444444,
            0.5555555555555556,
            0.6666666666666666,
            0.7777777777777777,
            0.8888888888888888,
            1
           ]
          },
          "colorscale": [
           [
            0,
            "#440154"
           ],
           [
            0.1111111111111111,
            "#482878"
           ],
           [
            0.2222222222222222,
            "#3e4989"
           ],
           [
            0.3333333333333333,
            "#31688e"
           ],
           [
            0.4444444444444444,
            "#26828e"
           ],
           [
            0.5555555555555556,
            "#1f9e89"
           ],
           [
            0.6666666666666666,
            "#35b779"
           ],
           [
            0.7777777777777778,
            "#6ece58"
           ],
           [
            0.8888888888888888,
            "#b5de2b"
           ],
           [
            1,
            "#fde725"
           ]
          ],
          "opacity": 0.8,
          "size": 10
         },
         "mode": "markers",
         "showlegend": false,
         "type": "scatter3d",
         "x": [
          -17.99999999999999,
          -19.99999999999999,
          -21.999999999999993
         ],
         "y": [
          9,
          9,
          9
         ],
         "z": [
          0,
          0,
          0
         ]
        }
       ],
       "layout": {
        "height": 350,
        "margin": {
         "b": 0,
         "l": 0,
         "r": 0,
         "t": 0
        },
        "scene": {
         "aspectmode": "data",
         "xaxis": {
          "backgroundcolor": "rgb(220, 220, 240)",
          "gridcolor": "white",
          "showbackground": true,
          "title": {
           "text": "X AXIS TITLE (mm)"
          },
          "zerolinecolor": "white"
         },
         "yaxis": {
          "backgroundcolor": "rgb(240, 220, 240)",
          "gridcolor": "white",
          "showbackground": true,
          "title": {
           "text": "Y AXIS TITLE (mm)"
          },
          "zerolinecolor": "white"
         },
         "zaxis": {
          "backgroundcolor": "rgb(240, 240, 220)",
          "gridcolor": "white",
          "showbackground": true,
          "title": {
           "text": "z AXIS TITLE (mm)"
          },
          "zerolinecolor": "white"
         }
        },
        "template": {
         "data": {
          "bar": [
           {
            "error_x": {
             "color": "#2a3f5f"
            },
            "error_y": {
             "color": "#2a3f5f"
            },
            "marker": {
             "line": {
              "color": "#E5ECF6",
              "width": 0.5
             },
             "pattern": {
              "fillmode": "overlay",
              "size": 10,
              "solidity": 0.2
             }
            },
            "type": "bar"
           }
          ],
          "barpolar": [
           {
            "marker": {
             "line": {
              "color": "#E5ECF6",
              "width": 0.5
             },
             "pattern": {
              "fillmode": "overlay",
              "size": 10,
              "solidity": 0.2
             }
            },
            "type": "barpolar"
           }
          ],
          "carpet": [
           {
            "aaxis": {
             "endlinecolor": "#2a3f5f",
             "gridcolor": "white",
             "linecolor": "white",
             "minorgridcolor": "white",
             "startlinecolor": "#2a3f5f"
            },
            "baxis": {
             "endlinecolor": "#2a3f5f",
             "gridcolor": "white",
             "linecolor": "white",
             "minorgridcolor": "white",
             "startlinecolor": "#2a3f5f"
            },
            "type": "carpet"
           }
          ],
          "choropleth": [
           {
            "colorbar": {
             "outlinewidth": 0,
             "ticks": ""
            },
            "type": "choropleth"
           }
          ],
          "contour": [
           {
            "colorbar": {
             "outlinewidth": 0,
             "ticks": ""
            },
            "colorscale": [
             [
              0,
              "#0d0887"
             ],
             [
              0.1111111111111111,
              "#46039f"
             ],
             [
              0.2222222222222222,
              "#7201a8"
             ],
             [
              0.3333333333333333,
              "#9c179e"
             ],
             [
              0.4444444444444444,
              "#bd3786"
             ],
             [
              0.5555555555555556,
              "#d8576b"
             ],
             [
              0.6666666666666666,
              "#ed7953"
             ],
             [
              0.7777777777777778,
              "#fb9f3a"
             ],
             [
              0.8888888888888888,
              "#fdca26"
             ],
             [
              1,
              "#f0f921"
             ]
            ],
            "type": "contour"
           }
          ],
          "contourcarpet": [
           {
            "colorbar": {
             "outlinewidth": 0,
             "ticks": ""
            },
            "type": "contourcarpet"
           }
          ],
          "heatmap": [
           {
            "colorbar": {
             "outlinewidth": 0,
             "ticks": ""
            },
            "colorscale": [
             [
              0,
              "#0d0887"
             ],
             [
              0.1111111111111111,
              "#46039f"
             ],
             [
              0.2222222222222222,
              "#7201a8"
             ],
             [
              0.3333333333333333,
              "#9c179e"
             ],
             [
              0.4444444444444444,
              "#bd3786"
             ],
             [
              0.5555555555555556,
              "#d8576b"
             ],
             [
              0.6666666666666666,
              "#ed7953"
             ],
             [
              0.7777777777777778,
              "#fb9f3a"
             ],
             [
              0.8888888888888888,
              "#fdca26"
             ],
             [
              1,
              "#f0f921"
             ]
            ],
            "type": "heatmap"
           }
          ],
          "heatmapgl": [
           {
            "colorbar": {
             "outlinewidth": 0,
             "ticks": ""
            },
            "colorscale": [
             [
              0,
              "#0d0887"
             ],
             [
              0.1111111111111111,
              "#46039f"
             ],
             [
              0.2222222222222222,
              "#7201a8"
             ],
             [
              0.3333333333333333,
              "#9c179e"
             ],
             [
              0.4444444444444444,
              "#bd3786"
             ],
             [
              0.5555555555555556,
              "#d8576b"
             ],
             [
              0.6666666666666666,
              "#ed7953"
             ],
             [
              0.7777777777777778,
              "#fb9f3a"
             ],
             [
              0.8888888888888888,
              "#fdca26"
             ],
             [
              1,
              "#f0f921"
             ]
            ],
            "type": "heatmapgl"
           }
          ],
          "histogram": [
           {
            "marker": {
             "pattern": {
              "fillmode": "overlay",
              "size": 10,
              "solidity": 0.2
             }
            },
            "type": "histogram"
           }
          ],
          "histogram2d": [
           {
            "colorbar": {
             "outlinewidth": 0,
             "ticks": ""
            },
            "colorscale": [
             [
              0,
              "#0d0887"
             ],
             [
              0.1111111111111111,
              "#46039f"
             ],
             [
              0.2222222222222222,
              "#7201a8"
             ],
             [
              0.3333333333333333,
              "#9c179e"
             ],
             [
              0.4444444444444444,
              "#bd3786"
             ],
             [
              0.5555555555555556,
              "#d8576b"
             ],
             [
              0.6666666666666666,
              "#ed7953"
             ],
             [
              0.7777777777777778,
              "#fb9f3a"
             ],
             [
              0.8888888888888888,
              "#fdca26"
             ],
             [
              1,
              "#f0f921"
             ]
            ],
            "type": "histogram2d"
           }
          ],
          "histogram2dcontour": [
           {
            "colorbar": {
             "outlinewidth": 0,
             "ticks": ""
            },
            "colorscale": [
             [
              0,
              "#0d0887"
             ],
             [
              0.1111111111111111,
              "#46039f"
             ],
             [
              0.2222222222222222,
              "#7201a8"
             ],
             [
              0.3333333333333333,
              "#9c179e"
             ],
             [
              0.4444444444444444,
              "#bd3786"
             ],
             [
              0.5555555555555556,
              "#d8576b"
             ],
             [
              0.6666666666666666,
              "#ed7953"
             ],
             [
              0.7777777777777778,
              "#fb9f3a"
             ],
             [
              0.8888888888888888,
              "#fdca26"
             ],
             [
              1,
              "#f0f921"
             ]
            ],
            "type": "histogram2dcontour"
           }
          ],
          "mesh3d": [
           {
            "colorbar": {
             "outlinewidth": 0,
             "ticks": ""
            },
            "type": "mesh3d"
           }
          ],
          "parcoords": [
           {
            "line": {
             "colorbar": {
              "outlinewidth": 0,
              "ticks": ""
             }
            },
            "type": "parcoords"
           }
          ],
          "pie": [
           {
            "automargin": true,
            "type": "pie"
           }
          ],
          "scatter": [
           {
            "fillpattern": {
             "fillmode": "overlay",
             "size": 10,
             "solidity": 0.2
            },
            "type": "scatter"
           }
          ],
          "scatter3d": [
           {
            "line": {
             "colorbar": {
              "outlinewidth": 0,
              "ticks": ""
             }
            },
            "marker": {
             "colorbar": {
              "outlinewidth": 0,
              "ticks": ""
             }
            },
            "type": "scatter3d"
           }
          ],
          "scattercarpet": [
           {
            "marker": {
             "colorbar": {
              "outlinewidth": 0,
              "ticks": ""
             }
            },
            "type": "scattercarpet"
           }
          ],
          "scattergeo": [
           {
            "marker": {
             "colorbar": {
              "outlinewidth": 0,
              "ticks": ""
             }
            },
            "type": "scattergeo"
           }
          ],
          "scattergl": [
           {
            "marker": {
             "colorbar": {
              "outlinewidth": 0,
              "ticks": ""
             }
            },
            "type": "scattergl"
           }
          ],
          "scattermapbox": [
           {
            "marker": {
             "colorbar": {
              "outlinewidth": 0,
              "ticks": ""
             }
            },
            "type": "scattermapbox"
           }
          ],
          "scatterpolar": [
           {
            "marker": {
             "colorbar": {
              "outlinewidth": 0,
              "ticks": ""
             }
            },
            "type": "scatterpolar"
           }
          ],
          "scatterpolargl": [
           {
            "marker": {
             "colorbar": {
              "outlinewidth": 0,
              "ticks": ""
             }
            },
            "type": "scatterpolargl"
           }
          ],
          "scatterternary": [
           {
            "marker": {
             "colorbar": {
              "outlinewidth": 0,
              "ticks": ""
             }
            },
            "type": "scatterternary"
           }
          ],
          "surface": [
           {
            "colorbar": {
             "outlinewidth": 0,
             "ticks": ""
            },
            "colorscale": [
             [
              0,
              "#0d0887"
             ],
             [
              0.1111111111111111,
              "#46039f"
             ],
             [
              0.2222222222222222,
              "#7201a8"
             ],
             [
              0.3333333333333333,
              "#9c179e"
             ],
             [
              0.4444444444444444,
              "#bd3786"
             ],
             [
              0.5555555555555556,
              "#d8576b"
             ],
             [
              0.6666666666666666,
              "#ed7953"
             ],
             [
              0.7777777777777778,
              "#fb9f3a"
             ],
             [
              0.8888888888888888,
              "#fdca26"
             ],
             [
              1,
              "#f0f921"
             ]
            ],
            "type": "surface"
           }
          ],
          "table": [
           {
            "cells": {
             "fill": {
              "color": "#EBF0F8"
             },
             "line": {
              "color": "white"
             }
            },
            "header": {
             "fill": {
              "color": "#C8D4E3"
             },
             "line": {
              "color": "white"
             }
            },
            "type": "table"
           }
          ]
         },
         "layout": {
          "annotationdefaults": {
           "arrowcolor": "#2a3f5f",
           "arrowhead": 0,
           "arrowwidth": 1
          },
          "autotypenumbers": "strict",
          "coloraxis": {
           "colorbar": {
            "outlinewidth": 0,
            "ticks": ""
           }
          },
          "colorscale": {
           "diverging": [
            [
             0,
             "#8e0152"
            ],
            [
             0.1,
             "#c51b7d"
            ],
            [
             0.2,
             "#de77ae"
            ],
            [
             0.3,
             "#f1b6da"
            ],
            [
             0.4,
             "#fde0ef"
            ],
            [
             0.5,
             "#f7f7f7"
            ],
            [
             0.6,
             "#e6f5d0"
            ],
            [
             0.7,
             "#b8e186"
            ],
            [
             0.8,
             "#7fbc41"
            ],
            [
             0.9,
             "#4d9221"
            ],
            [
             1,
             "#276419"
            ]
           ],
           "sequential": [
            [
             0,
             "#0d0887"
            ],
            [
             0.1111111111111111,
             "#46039f"
            ],
            [
             0.2222222222222222,
             "#7201a8"
            ],
            [
             0.3333333333333333,
             "#9c179e"
            ],
            [
             0.4444444444444444,
             "#bd3786"
            ],
            [
             0.5555555555555556,
             "#d8576b"
            ],
            [
             0.6666666666666666,
             "#ed7953"
            ],
            [
             0.7777777777777778,
             "#fb9f3a"
            ],
            [
             0.8888888888888888,
             "#fdca26"
            ],
            [
             1,
             "#f0f921"
            ]
           ],
           "sequentialminus": [
            [
             0,
             "#0d0887"
            ],
            [
             0.1111111111111111,
             "#46039f"
            ],
            [
             0.2222222222222222,
             "#7201a8"
            ],
            [
             0.3333333333333333,
             "#9c179e"
            ],
            [
             0.4444444444444444,
             "#bd3786"
            ],
            [
             0.5555555555555556,
             "#d8576b"
            ],
            [
             0.6666666666666666,
             "#ed7953"
            ],
            [
             0.7777777777777778,
             "#fb9f3a"
            ],
            [
             0.8888888888888888,
             "#fdca26"
            ],
            [
             1,
             "#f0f921"
            ]
           ]
          },
          "colorway": [
           "#636efa",
           "#EF553B",
           "#00cc96",
           "#ab63fa",
           "#FFA15A",
           "#19d3f3",
           "#FF6692",
           "#B6E880",
           "#FF97FF",
           "#FECB52"
          ],
          "font": {
           "color": "#2a3f5f"
          },
          "geo": {
           "bgcolor": "white",
           "lakecolor": "white",
           "landcolor": "#E5ECF6",
           "showlakes": true,
           "showland": true,
           "subunitcolor": "white"
          },
          "hoverlabel": {
           "align": "left"
          },
          "hovermode": "closest",
          "mapbox": {
           "style": "light"
          },
          "paper_bgcolor": "white",
          "plot_bgcolor": "#E5ECF6",
          "polar": {
           "angularaxis": {
            "gridcolor": "white",
            "linecolor": "white",
            "ticks": ""
           },
           "bgcolor": "#E5ECF6",
           "radialaxis": {
            "gridcolor": "white",
            "linecolor": "white",
            "ticks": ""
           }
          },
          "scene": {
           "xaxis": {
            "backgroundcolor": "#E5ECF6",
            "gridcolor": "white",
            "gridwidth": 2,
            "linecolor": "white",
            "showbackground": true,
            "ticks": "",
            "zerolinecolor": "white"
           },
           "yaxis": {
            "backgroundcolor": "#E5ECF6",
            "gridcolor": "white",
            "gridwidth": 2,
            "linecolor": "white",
            "showbackground": true,
            "ticks": "",
            "zerolinecolor": "white"
           },
           "zaxis": {
            "backgroundcolor": "#E5ECF6",
            "gridcolor": "white",
            "gridwidth": 2,
            "linecolor": "white",
            "showbackground": true,
            "ticks": "",
            "zerolinecolor": "white"
           }
          },
          "shapedefaults": {
           "line": {
            "color": "#2a3f5f"
           }
          },
          "ternary": {
           "aaxis": {
            "gridcolor": "white",
            "linecolor": "white",
            "ticks": ""
           },
           "baxis": {
            "gridcolor": "white",
            "linecolor": "white",
            "ticks": ""
           },
           "bgcolor": "#E5ECF6",
           "caxis": {
            "gridcolor": "white",
            "linecolor": "white",
            "ticks": ""
           }
          },
          "title": {
           "x": 0.05
          },
          "xaxis": {
           "automargin": true,
           "gridcolor": "white",
           "linecolor": "white",
           "ticks": "",
           "title": {
            "standoff": 15
           },
           "zerolinecolor": "white",
           "zerolinewidth": 2
          },
          "yaxis": {
           "automargin": true,
           "gridcolor": "white",
           "linecolor": "white",
           "ticks": "",
           "title": {
            "standoff": 15
           },
           "zerolinecolor": "white",
           "zerolinewidth": 2
          }
         }
        },
        "width": 1000
       }
      }
     },
     "metadata": {},
     "output_type": "display_data"
    },
    {
     "name": "stdout",
     "output_type": "stream",
     "text": [
      "3\n"
     ]
    }
   ],
   "source": [
    "base_fish.visualize_scatter(show_normals=2, show_point_currents=3, fig_width=1000, fig_height=350)\n",
    "print(base_fish.get_N_receptors())"
   ]
  },
  {
   "cell_type": "markdown",
   "metadata": {},
   "source": [
    "#### select simulation parameters"
   ]
  },
  {
   "cell_type": "code",
   "execution_count": 34,
   "metadata": {},
   "outputs": [],
   "source": [
    "# Create Data Params Dict\n",
    "data_params_dict = {}\n",
    "data_params_dict[\"save_name\"]                       = dataset_name\n",
    "# aquarium properties\n",
    "data_params_dict[\"water_conductivities\"]            = [0.01]\n",
    "data_params_dict[\"boundary_displacements\"]          = [[-1e9], [-30e-3]]\n",
    "data_params_dict[\"boundary_normals\"]                = [[0, 0, 1], [0, 0, 1]]\n",
    "# fish properties\n",
    "data_params_dict[\"fish_obj\"]                        = base_fish\n",
    "data_params_dict[\"fish_bend_location_percentages\"]  = [[0]]\n",
    "data_params_dict[\"fish_bend_angle_lateral\"]         = [[0], [20]]\n",
    "data_params_dict[\"fish_bend_angle_dorso_ventral\"]   = [[0]]\n",
    "data_params_dict[\"fish_yaw\"]                        = [0]\n",
    "data_params_dict[\"fish_pitch\"]                      = [0]\n",
    "data_params_dict[\"fish_roll\"]                       = [0]\n",
    "# worm properties\n",
    "data_params_dict['worm_resistances']                = np.exp(np.linspace(np.log(2), np.log(100), 10)) * 1e3\n",
    "data_params_dict[\"worm_capacitances\"]               = np.exp(np.linspace(np.log(2), np.log(100), 10)) * 1e-10\n",
    "data_params_dict[\"worm_radii\"]                      = np.array([5, 12.5]) * 1e-3\n",
    "data_params_dict[\"worm_position_xs\"]                = np.array([-30]) * 1e-3\n",
    "data_params_dict[\"worm_position_ys\"]                = np.array([5, 10]) * 1e-3 + base_fish.get_lateral_semi_axis() + data_params_dict[\"worm_radii\"]\n",
    "data_params_dict[\"worm_position_zs\"]                = np.array([0]) * 1e-3\n",
    "# save params file\n",
    "dill.dump(data_params_dict, open(f\"params/{data_params_dict['save_name']}.pkl\", \"wb\"), protocol=4)"
   ]
  },
  {
   "cell_type": "code",
   "execution_count": 38,
   "metadata": {},
   "outputs": [],
   "source": [
    "import pandas as pd"
   ]
  },
  {
   "cell_type": "code",
   "execution_count": 39,
   "metadata": {},
   "outputs": [],
   "source": [
    "a = pd.DataFrame()\n",
    "a = pd.concat([a, pd.DataFrame(dict(cond=[1,4,3,6], test=[0,2,5,3]))], axis=0, ignore_index=True)"
   ]
  },
  {
   "cell_type": "code",
   "execution_count": 46,
   "metadata": {},
   "outputs": [
    {
     "name": "stdout",
     "output_type": "stream",
     "text": [
      "0\n",
      "cond    1\n",
      "test    0\n",
      "Name: 0, dtype: int64\n",
      "1\n"
     ]
    }
   ],
   "source": [
    "for i, r in a.iterrows():\n",
    "    print(i)\n",
    "    print(r)\n",
    "    print(r['cond'])\n",
    "    break"
   ]
  },
  {
   "cell_type": "code",
   "execution_count": null,
   "metadata": {},
   "outputs": [],
   "source": []
  },
  {
   "cell_type": "code",
   "execution_count": null,
   "metadata": {},
   "outputs": [],
   "source": []
  },
  {
   "cell_type": "code",
   "execution_count": null,
   "metadata": {},
   "outputs": [],
   "source": []
  },
  {
   "cell_type": "code",
   "execution_count": null,
   "metadata": {},
   "outputs": [],
   "source": []
  },
  {
   "cell_type": "code",
   "execution_count": null,
   "metadata": {},
   "outputs": [],
   "source": []
  },
  {
   "cell_type": "code",
   "execution_count": null,
   "metadata": {},
   "outputs": [],
   "source": []
  },
  {
   "cell_type": "code",
   "execution_count": null,
   "metadata": {},
   "outputs": [],
   "source": []
  },
  {
   "cell_type": "code",
   "execution_count": null,
   "metadata": {},
   "outputs": [],
   "source": []
  },
  {
   "cell_type": "code",
   "execution_count": null,
   "metadata": {},
   "outputs": [],
   "source": []
  },
  {
   "cell_type": "code",
   "execution_count": null,
   "metadata": {},
   "outputs": [],
   "source": []
  },
  {
   "cell_type": "code",
   "execution_count": null,
   "metadata": {},
   "outputs": [],
   "source": []
  },
  {
   "cell_type": "markdown",
   "metadata": {},
   "source": [
    "## Misc - previous param dicts for reference"
   ]
  },
  {
   "cell_type": "code",
   "execution_count": null,
   "metadata": {},
   "outputs": [],
   "source": [
    "# Create Data Params Dict\n",
    "data_params_dict = {}\n",
    "# data_params_dict['save_file_name']                  = 'data_240411_SpatialProcessing_MovingObject_7by15'\n",
    "data_params_dict['save_file_name']                  = 'data_240425_Detection_1050_receptors_HighContrast'\n",
    "# aquarium properties\n",
    "data_params_dict['water_conductivities']            = [0.01]\n",
    "data_params_dict['boundary_displacements']          = [[-1e9]]\n",
    "data_params_dict['boundary_normals']                =  [[0,0,1]]\n",
    "# fish properties\n",
    "data_params_dict['fish_obj']                        = base_fish\n",
    "data_params_dict['fish_bend_angle_lateral']         = [[0]]\n",
    "data_params_dict['fish_bend_angle_dorso_ventral']   = [[0]]\n",
    "data_params_dict['fish_bend_location_percentages']  = [[0]]\n",
    "data_params_dict['fish_yaw']                        = [0]\n",
    "data_params_dict['fish_pitch']                      = [0]\n",
    "data_params_dict['fish_roll']                       = [0]\n",
    "# worm properties\n",
    "# data_params_dict['worm_resistances']                = np.exp(np.linspace(np.log(2), np.log(100), 5)) * 1e3\n",
    "data_params_dict['worm_resistances']                = np.array([2e3, 100e3])  # HighContrast\n",
    "data_params_dict['worm_capacitances']               = np.exp(np.linspace(np.log(2), np.log(100), 5)) * 1e-10  # HighContrast when paired with HighContrast resistances\n",
    "# data_params_dict['worm_capacitances']               = np.array([2e-10])  # HighContrast\n",
    "data_params_dict['worm_radii']                      = np.array([12.5]) * 1e-3\n",
    "data_params_dict['worm_position_xs']                = np.array([-30]) * 1e-3   # - np.arange(101) * 3e-4\n",
    "data_params_dict['worm_position_ys']                = (5 * np.power(np.sqrt(1.33), np.arange(25))).round(0) * 1e-3 + base_fish.lat_ax + data_params_dict['worm_radii']\n",
    "data_params_dict['worm_position_zs']                = np.array([0]) * 1e-3\n",
    "# save params file\n",
    "dill.dump(data_params_dict, open('../data/params/' + data_params_dict['save_file_name'] + '_params_dict.pkl', 'wb'), protocol=4)"
   ]
  },
  {
   "cell_type": "code",
   "execution_count": null,
   "metadata": {},
   "outputs": [],
   "source": [
    "# Create Data Params Dict\n",
    "data_params_dict = {}\n",
    "data_params_dict['save_file_name']                  = 'data_231116_SpatialProcessing_MovingObject_11by25'\n",
    "# aquarium properties\n",
    "data_params_dict['water_conductivities']            = [0.01]  # np.array([100, 300, 600]) * 1e-6 / 1e-2\n",
    "data_params_dict['boundary_displacements']          = [[-1e9]]\n",
    "                                                      # [[-1e9]+list(-np.arange(35, 70, 5)[::-1]*1e-3),\n",
    "                                                      #  [-1e9]+list(-np.arange(35, 70, 5)[::-1]*1e-3), \n",
    "                                                      #  [-1e9]+list(-np.arange(35, 70, 5)[::-1]*1e-3)]\n",
    "                                                    #  [[-1e9]+list(-np.linspace(5*base_fish.roc_ax, base_fish.roc_ax, 9)), ]  # \n",
    "                                                    #    [-1e9]+list(-np.linspace(0.058, 0.022, 9)),\n",
    "                                                    #    [-1e9]+list(-np.linspace(0.058, 0.022, 9))]\n",
    "data_params_dict['boundary_normals']                =  [[0,0,1]]\n",
    "                                                      # [[0,0,1], [0,-1,0], [0,1,0]]\n",
    "      #  [[0,0,1], ]  #\n",
    "      #    [0,-1,0],\n",
    "      #    [0,1,0]]\n",
    "# fish properties\n",
    "data_params_dict['fish_obj']                        = base_fish\n",
    "data_params_dict['fish_bend_angle_lateral']         = [[0]]#[[x] for x in np.linspace(-60,60,25)]\n",
    "data_params_dict['fish_bend_angle_dorso_ventral']   = [[0]]#[[0]]\n",
    "data_params_dict['fish_bend_location_percentages']  = [[0]]#[[60]]\n",
    "data_params_dict['fish_yaw']                        = [0]\n",
    "data_params_dict['fish_pitch']                      = [0]\n",
    "data_params_dict['fish_roll']                       = [0]\n",
    "# worm properties\n",
    "data_params_dict['worm_resistances']                = np.exp(np.linspace(np.log(2), np.log(100), 5)) * 1e3\n",
    "data_params_dict['worm_capacitances']               = np.exp(np.linspace(np.log(2), np.log(100), 5)) * 1e-10\n",
    "data_params_dict['worm_radii']                      = np.array([12.5]) * 1e-3\n",
    "data_params_dict['worm_position_xs']                = np.array([-30]) * 1e-3 - np.arange(11) * 3e-3\n",
    "data_params_dict['worm_position_ys']                = np.array([5,10,15,30,50,70,100,150]) * 1e-3 + base_fish.lat_ax + data_params_dict['worm_radii']\n",
    "data_params_dict['worm_position_zs']                = np.array([0]) * 1e-3\n",
    "# save params file\n",
    "dill.dump(data_params_dict, open('../data/params/' + data_params_dict['save_file_name'] + '_params_dict.pkl', 'wb'), protocol=4)"
   ]
  },
  {
   "cell_type": "code",
   "execution_count": null,
   "metadata": {},
   "outputs": [],
   "source": [
    "# Create Data Params Dict\n",
    "data_params_dict = {}\n",
    "data_params_dict['save_file_name']                  = 'data_240311_falloff_with_distance_and_radius'\n",
    "# aquarium properties\n",
    "data_params_dict['water_conductivities']            = np.array([100]) * 1e-6 / 1e-2\n",
    "data_params_dict['boundary_displacements']          = [[-1e9]]\n",
    "data_params_dict['boundary_normals']                =  [[0,0,1]]\n",
    "# fish properties\n",
    "data_params_dict['fish_obj']                        = base_fish\n",
    "data_params_dict['fish_bend_angle_lateral']         = [[0]]\n",
    "data_params_dict['fish_bend_angle_dorso_ventral']   = [[0]]\n",
    "data_params_dict['fish_bend_location_percentages']  = [[0]]\n",
    "data_params_dict['fish_yaw']                        = [0]\n",
    "data_params_dict['fish_pitch']                      = [0]\n",
    "data_params_dict['fish_roll']                       = [0]\n",
    "# worm properties\n",
    "data_params_dict['worm_resistances']                = np.array([500,50000])\n",
    "data_params_dict['worm_capacitances']               = np.array([2e-10])\n",
    "data_params_dict['worm_radii']                      = np.arange(5,11) * 1e-3\n",
    "data_params_dict['worm_position_xs']                = np.array([-30]) * 1e-3\n",
    "data_params_dict['worm_position_ys']                = np.arange(10,201) * 1e-3 + base_fish.lat_ax\n",
    "data_params_dict['worm_position_zs']                = np.array([0]) * 1e-3\n",
    "# save params file\n",
    "dill.dump(data_params_dict, open('../data/params/' + data_params_dict['save_file_name'] + '_params_dict.pkl', 'wb'), protocol=4)"
   ]
  },
  {
   "cell_type": "code",
   "execution_count": null,
   "metadata": {},
   "outputs": [],
   "source": []
  }
 ],
 "metadata": {
  "kernelspec": {
   "display_name": "Python 3.7.6 ('fish_PT')",
   "language": "python",
   "name": "python3"
  },
  "language_info": {
   "codemirror_mode": {
    "name": "ipython",
    "version": 3
   },
   "file_extension": ".py",
   "mimetype": "text/x-python",
   "name": "python",
   "nbconvert_exporter": "python",
   "pygments_lexer": "ipython3",
   "version": "3.11.7"
  },
  "vscode": {
   "interpreter": {
    "hash": "6ad226b9bd45bab16b521a40b87b0c0819cb92a301ab41030f1182bd53c1fc03"
   }
  }
 },
 "nbformat": 4,
 "nbformat_minor": 4
}
