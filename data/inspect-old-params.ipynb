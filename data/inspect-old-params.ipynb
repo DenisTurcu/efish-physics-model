{
 "cells": [
  {
   "cell_type": "code",
   "execution_count": 1,
   "metadata": {},
   "outputs": [],
   "source": [
    "%load_ext autoreload\n",
    "%autoreload 2"
   ]
  },
  {
   "cell_type": "code",
   "execution_count": 2,
   "metadata": {},
   "outputs": [],
   "source": [
    "import sys\n",
    "import dill\n",
    "import numpy as np\n",
    "import scipy.io as io\n",
    "import datetime\n",
    "\n",
    "sys.path.append('../helper_functions')\n",
    "sys.path.append('helper_functions')\n",
    "sys.path.append('../objects')\n",
    "sys.path.append('objects')"
   ]
  },
  {
   "cell_type": "code",
   "execution_count": 3,
   "metadata": {},
   "outputs": [
    {
     "data": {
      "text/plain": [
       "'Success!'"
      ]
     },
     "execution_count": 3,
     "metadata": {},
     "output_type": "execute_result"
    }
   ],
   "source": [
    "from FishGeneration import FishGeneration\n",
    "from Fish_IceCreamCone import IceCreamConeFish\n",
    "from Fish_Capsule import CapsuleFish\n",
    "\n",
    "from assertion_tests import run_tests\n",
    "run_tests()"
   ]
  },
  {
   "cell_type": "code",
   "execution_count": null,
   "metadata": {},
   "outputs": [],
   "source": [
    "# data_230123_YES_manyObjects_NO_boundaries_NO_tail_ONE_conductivity.hdf5\n",
    "# data_230324_YES_manyObjects_NO_boundaries_NO_tail_ONE_conductivity_OnlyFEW_R_C.hdf5"
   ]
  },
  {
   "cell_type": "code",
   "execution_count": 7,
   "metadata": {},
   "outputs": [
    {
     "ename": "AttributeError",
     "evalue": "'str' object has no attribute 'copy'",
     "output_type": "error",
     "traceback": [
      "\u001b[0;31m---------------------------------------------------------------------------\u001b[0m",
      "\u001b[0;31mAttributeError\u001b[0m                            Traceback (most recent call last)",
      "Cell \u001b[0;32mIn[7], line 1\u001b[0m\n\u001b[0;32m----> 1\u001b[0m params_dict \u001b[38;5;241m=\u001b[39m dill\u001b[38;5;241m.\u001b[39mload(\n\u001b[1;32m      2\u001b[0m     \u001b[38;5;28mopen\u001b[39m(\u001b[38;5;124m\"\u001b[39m\u001b[38;5;124mparams/old-params/data_230315_Large_dataset_with_receptors_responses_REMAKE_params_dict.pkl\u001b[39m\u001b[38;5;124m\"\u001b[39m, \u001b[38;5;124m\"\u001b[39m\u001b[38;5;124mrb\u001b[39m\u001b[38;5;124m\"\u001b[39m)\n\u001b[1;32m      3\u001b[0m )\n",
      "File \u001b[0;32m/opt/anaconda3/envs/efish/lib/python3.11/site-packages/dill/_dill.py:287\u001b[0m, in \u001b[0;36mload\u001b[0;34m(file, ignore, **kwds)\u001b[0m\n\u001b[1;32m    281\u001b[0m \u001b[38;5;28;01mdef\u001b[39;00m \u001b[38;5;21mload\u001b[39m(file, ignore\u001b[38;5;241m=\u001b[39m\u001b[38;5;28;01mNone\u001b[39;00m, \u001b[38;5;241m*\u001b[39m\u001b[38;5;241m*\u001b[39mkwds):\n\u001b[1;32m    282\u001b[0m \u001b[38;5;250m    \u001b[39m\u001b[38;5;124;03m\"\"\"\u001b[39;00m\n\u001b[1;32m    283\u001b[0m \u001b[38;5;124;03m    Unpickle an object from a file.\u001b[39;00m\n\u001b[1;32m    284\u001b[0m \n\u001b[1;32m    285\u001b[0m \u001b[38;5;124;03m    See :func:`loads` for keyword arguments.\u001b[39;00m\n\u001b[1;32m    286\u001b[0m \u001b[38;5;124;03m    \"\"\"\u001b[39;00m\n\u001b[0;32m--> 287\u001b[0m     \u001b[38;5;28;01mreturn\u001b[39;00m Unpickler(file, ignore\u001b[38;5;241m=\u001b[39mignore, \u001b[38;5;241m*\u001b[39m\u001b[38;5;241m*\u001b[39mkwds)\u001b[38;5;241m.\u001b[39mload()\n",
      "File \u001b[0;32m/opt/anaconda3/envs/efish/lib/python3.11/site-packages/dill/_dill.py:442\u001b[0m, in \u001b[0;36mUnpickler.load\u001b[0;34m(self)\u001b[0m\n\u001b[1;32m    441\u001b[0m \u001b[38;5;28;01mdef\u001b[39;00m \u001b[38;5;21mload\u001b[39m(\u001b[38;5;28mself\u001b[39m): \u001b[38;5;66;03m#NOTE: if settings change, need to update attributes\u001b[39;00m\n\u001b[0;32m--> 442\u001b[0m     obj \u001b[38;5;241m=\u001b[39m StockUnpickler\u001b[38;5;241m.\u001b[39mload(\u001b[38;5;28mself\u001b[39m)\n\u001b[1;32m    443\u001b[0m     \u001b[38;5;28;01mif\u001b[39;00m \u001b[38;5;28mtype\u001b[39m(obj)\u001b[38;5;241m.\u001b[39m\u001b[38;5;18m__module__\u001b[39m \u001b[38;5;241m==\u001b[39m \u001b[38;5;28mgetattr\u001b[39m(_main_module, \u001b[38;5;124m'\u001b[39m\u001b[38;5;124m__name__\u001b[39m\u001b[38;5;124m'\u001b[39m, \u001b[38;5;124m'\u001b[39m\u001b[38;5;124m__main__\u001b[39m\u001b[38;5;124m'\u001b[39m):\n\u001b[1;32m    444\u001b[0m         \u001b[38;5;28;01mif\u001b[39;00m \u001b[38;5;129;01mnot\u001b[39;00m \u001b[38;5;28mself\u001b[39m\u001b[38;5;241m.\u001b[39m_ignore:\n\u001b[1;32m    445\u001b[0m             \u001b[38;5;66;03m# point obj class to main\u001b[39;00m\n",
      "File \u001b[0;32m_rotation.pyx:738\u001b[0m, in \u001b[0;36mscipy.spatial.transform._rotation.Rotation.__setstate__\u001b[0;34m()\u001b[0m\n",
      "\u001b[0;31mAttributeError\u001b[0m: 'str' object has no attribute 'copy'"
     ]
    }
   ],
   "source": [
    "params_dict = dill.load(\n",
    "    open(\"params/old-params/data_230315_Large_dataset_with_receptors_responses_REMAKE_params_dict.pkl\", \"rb\")\n",
    ")"
   ]
  },
  {
   "cell_type": "code",
   "execution_count": null,
   "metadata": {},
   "outputs": [],
   "source": [
    "# 600 = 20 (around) x 30 (length)\n",
    "\n",
    "# {'save_file_name': 'data_230123_YES_manyObjects_NO_boundaries_NO_tail_ONE_conductivity',\n",
    "#  'water_conductivities': [0.01],\n",
    "#  'boundary_displacements': [[-1000000000.0]],\n",
    "#  'boundary_normals': [[0, 0, 1]],\n",
    "#  'fish_obj': <Fish_Capsule.CapsuleFish at 0x7f15a3b668d0>,\n",
    "#  'fish_bend_angle_lateral': [[0]],\n",
    "#  'fish_bend_angle_dorso_ventral': [[0]],\n",
    "#  'fish_bend_location_percentages': [[0]],\n",
    "#  'fish_yaw': [0],\n",
    "#  'fish_pitch': [0],\n",
    "#  'fish_roll': [0],\n",
    "#  'worm_resistances': array([   100.        ,    107.2267222 ,    114.97569954,    123.28467394,\n",
    "#            132.19411485,    141.74741629,    151.9911083 ,    162.97508346,\n",
    "#            174.75284   ,    187.38174229,    200.92330026,    215.443469  ,\n",
    "#            231.01297001,    247.7076356 ,    265.60877829,    284.80358684,\n",
    "#            305.38555088,    327.45491629,    351.11917342,    376.49358068,\n",
    "#            403.70172586,    432.87612811,    464.15888336,    497.70235643,\n",
    "#            533.66992312,    572.23676594,    613.59072734,    657.93322466,\n",
    "#            705.48023107,    756.46332755,    811.13083079,    869.74900262,\n",
    "#            932.60334688,   1000.        ,   1072.26722201,   1149.7569954 ,\n",
    "#           1232.84673944,   1321.94114847,   1417.47416293,   1519.91108295,\n",
    "#           1629.75083462,   1747.52840001,   1873.81742286,   2009.23300257,\n",
    "#           2154.43469003,   2310.12970008,   2477.07635599,   2656.08778295,\n",
    "#           2848.03586844,   3053.85550883,   3274.54916288,   3511.19173422,\n",
    "#           3764.93580679,   4037.0172586 ,   4328.76128108,   4641.58883361,\n",
    "#           4977.02356433,   5336.69923121,   5722.36765935,   6135.90727341,\n",
    "#           6579.33224658,   7054.80231072,   7564.63327555,   8111.3083079 ,\n",
    "#           8697.49002618,   9326.03346883,  10000.        ,  10722.6722201 ,\n",
    "#          11497.56995398,  12328.46739442,  13219.41148466,  14174.74162927,\n",
    "#          15199.11082953,  16297.50834621,  17475.28400008,  18738.1742286 ,\n",
    "#          20092.33002565,  21544.34690032,  23101.29700083,  24770.76355992,\n",
    "#          26560.87782947,  28480.35868436,  30538.55508833,  32745.49162878,\n",
    "#          35111.91734215,  37649.35806792,  40370.17258597,  43287.61281083,\n",
    "#          46415.88833613,  49770.23564332,  53366.99231206,  57223.6765935 ,\n",
    "#          61359.07273413,  65793.32246576,  70548.02310719,  75646.33275546,\n",
    "#          81113.08307897,  86974.90026178,  93260.33468832, 100000.        ]),\n",
    "#  'worm_capacitances': array([1.00000000e-10, 1.07226722e-10, 1.14975700e-10, 1.23284674e-10,\n",
    "#         1.32194115e-10, 1.41747416e-10, 1.51991108e-10, 1.62975083e-10,\n",
    "#         1.74752840e-10, 1.87381742e-10, 2.00923300e-10, 2.15443469e-10,\n",
    "#         2.31012970e-10, 2.47707636e-10, 2.65608778e-10, 2.84803587e-10,\n",
    "#         3.05385551e-10, 3.27454916e-10, 3.51119173e-10, 3.76493581e-10,\n",
    "#         4.03701726e-10, 4.32876128e-10, 4.64158883e-10, 4.97702356e-10,\n",
    "#         5.33669923e-10, 5.72236766e-10, 6.13590727e-10, 6.57933225e-10,\n",
    "#         7.05480231e-10, 7.56463328e-10, 8.11130831e-10, 8.69749003e-10,\n",
    "#         9.32603347e-10, 1.00000000e-09, 1.07226722e-09, 1.14975700e-09,\n",
    "#         1.23284674e-09, 1.32194115e-09, 1.41747416e-09, 1.51991108e-09,\n",
    "#         1.62975083e-09, 1.74752840e-09, 1.87381742e-09, 2.00923300e-09,\n",
    "#         2.15443469e-09, 2.31012970e-09, 2.47707636e-09, 2.65608778e-09,\n",
    "#         2.84803587e-09, 3.05385551e-09, 3.27454916e-09, 3.51119173e-09,\n",
    "#         3.76493581e-09, 4.03701726e-09, 4.32876128e-09, 4.64158883e-09,\n",
    "#         4.97702356e-09, 5.33669923e-09, 5.72236766e-09, 6.13590727e-09,\n",
    "#         6.57933225e-09, 7.05480231e-09, 7.56463328e-09, 8.11130831e-09,\n",
    "#         8.69749003e-09, 9.32603347e-09, 1.00000000e-08, 1.07226722e-08,\n",
    "#         1.14975700e-08, 1.23284674e-08, 1.32194115e-08, 1.41747416e-08,\n",
    "#         1.51991108e-08, 1.62975083e-08, 1.74752840e-08, 1.87381742e-08,\n",
    "#         2.00923300e-08, 2.15443469e-08, 2.31012970e-08, 2.47707636e-08,\n",
    "#         2.65608778e-08, 2.84803587e-08, 3.05385551e-08, 3.27454916e-08,\n",
    "#         3.51119173e-08, 3.76493581e-08, 4.03701726e-08, 4.32876128e-08,\n",
    "#         4.64158883e-08, 4.97702356e-08, 5.33669923e-08, 5.72236766e-08,\n",
    "#         6.13590727e-08, 6.57933225e-08, 7.05480231e-08, 7.56463328e-08,\n",
    "#         8.11130831e-08, 8.69749003e-08, 9.32603347e-08, 1.00000000e-07]),\n",
    "#  'worm_radii': array([0.001, 0.002, 0.003, 0.004, 0.005, 0.006, 0.007, 0.008]),\n",
    "#  'worm_position_xs': array([ 0.005, -0.005, -0.015, -0.025, -0.035, -0.045, -0.055]),\n",
    "#  'worm_position_ys': array([0.015, 0.017, 0.019, 0.021, 0.023, 0.025, 0.027]),\n",
    "#  'worm_position_zs': array([-0.01 , -0.005,  0.   ,  0.005,  0.01 ])}"
   ]
  }
 ],
 "metadata": {
  "kernelspec": {
   "display_name": "Python 3.7.6 ('fish_PT')",
   "language": "python",
   "name": "python3"
  },
  "language_info": {
   "codemirror_mode": {
    "name": "ipython",
    "version": 3
   },
   "file_extension": ".py",
   "mimetype": "text/x-python",
   "name": "python",
   "nbconvert_exporter": "python",
   "pygments_lexer": "ipython3",
   "version": "3.11.7"
  },
  "vscode": {
   "interpreter": {
    "hash": "6ad226b9bd45bab16b521a40b87b0c0819cb92a301ab41030f1182bd53c1fc03"
   }
  }
 },
 "nbformat": 4,
 "nbformat_minor": 4
}
