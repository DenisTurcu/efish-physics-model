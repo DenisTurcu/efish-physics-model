{
 "cells": [
  {
   "cell_type": "code",
   "execution_count": 1,
   "id": "eab1555a",
   "metadata": {},
   "outputs": [],
   "source": [
    "%load_ext autoreload\n",
    "%autoreload 2\n",
    "from IPython.display import clear_output"
   ]
  },
  {
   "cell_type": "code",
   "execution_count": 2,
   "id": "ef5ef693",
   "metadata": {},
   "outputs": [],
   "source": [
    "import copy\n",
    "import dill\n",
    "import numpy as np\n",
    "import pandas as pd\n",
    "import mat73\n",
    "import h5py\n",
    "import scipy\n",
    "import scipy.io as io\n",
    "import matplotlib.pyplot as plt\n",
    "from collections import defaultdict\n",
    "\n",
    "import torch\n",
    "import torch.nn.functional as F\n",
    "from torch.utils.data import DataLoader, random_split\n",
    "\n",
    "\n",
    "from sklearn.decomposition import PCA\n",
    "from sklearn.linear_model import LinearRegression\n",
    "\n",
    "import sys\n",
    "sys.path.append('../../machineLearning/remake/helpers/')\n",
    "from load_data import load_data_full\n",
    "# sys.path.append('../helper_functions')\n",
    "# sys.path.append('../objects')\n",
    "\n",
    "# sys.path.append('../tools/')\n",
    "# sys.path.append('../../electrodynamic/helper_functions/')\n",
    "# sys.path.append('../../electrodynamic/uniform_points_generation/')\n",
    "# from load_electrodynamic_data import load_OLD_electrodynamic_data, load_data_full\n",
    "# from general_tools import compute_pp_mod, compute_pn_mod, plot_observation_vs_predictions\n",
    "# from torch_tools import parse_device, compute_feats, compute_percentage_error\n",
    "# from NNs_on_LFP_tools import create_simple_model, PairedLfpResponseDset, RCModelTrainer\n",
    "# from model_trainer import ModelTrainer\n",
    "\n",
    "import matplotlib\n",
    "\n",
    "matplotlib.rcParams['xtick.major.size']  = 10\n",
    "matplotlib.rcParams['xtick.major.width'] = 4\n",
    "matplotlib.rcParams['xtick.minor.size']  = 5\n",
    "matplotlib.rcParams['xtick.minor.width'] = 2\n",
    "\n",
    "matplotlib.rcParams['ytick.major.size']  = 10\n",
    "matplotlib.rcParams['ytick.major.width'] = 4\n",
    "matplotlib.rcParams['ytick.minor.size']  = 5\n",
    "matplotlib.rcParams['ytick.minor.width'] = 2\n",
    "\n",
    "matplotlib.rcParams['axes.spines.left'] = True\n",
    "matplotlib.rcParams['axes.spines.right'] = False\n",
    "matplotlib.rcParams['axes.spines.top'] = False\n",
    "matplotlib.rcParams['axes.spines.bottom'] = True"
   ]
  },
  {
   "cell_type": "markdown",
   "id": "94a0b0f9",
   "metadata": {},
   "source": [
    "# Analyze EOD variation effects on stimuli"
   ]
  },
  {
   "cell_type": "code",
   "execution_count": 15,
   "id": "7fe59f68",
   "metadata": {},
   "outputs": [
    {
     "name": "stdout",
     "output_type": "stream",
     "text": [
      "Data loaded.\n",
      "(1, 10)\n",
      "(225, 17)\n"
     ]
    }
   ],
   "source": [
    "fish_eod_id = 2\n",
    "sampling_rate = 2.5e6\n",
    "file_name = f'../../electrodynamic/data/processed/data_231022_SingleFish_EODid{fish_eod_id}_ManyRC'\n",
    "\n",
    "use_torch = False\n",
    "find_base_id_for_each_EI=False\n",
    "\n",
    "[properties_dict,\n",
    "properties_ids_base, properties_ids_pert,\n",
    "base_EI, base_LEODs, pert_EI, pert_LEODs,\n",
    "# aquarium properties\n",
    "water_conductivities, boundary_normals, boundary_displacements,\n",
    "# fish properties\n",
    "tail_lateral_angle, tail_dor_ven_angle, tail_location_percent, fish_yaw, fish_pitch, fish_roll,\n",
    "# worm properties\n",
    "resistances, capacitances, worm_radii, worm_xs, worm_ys, worm_zs,\n",
    "# statistics of receptor responses\n",
    "receptors_avg, receptors_std,\n",
    "# objects used in simulations\n",
    "aqua_objs, fish_objs, worm_objs] = \\\n",
    "    load_data_full(file_name=file_name, use_torch=use_torch, find_base_id_for_each_EI=find_base_id_for_each_EI)\n",
    "    \n",
    "print(properties_ids_base.shape)\n",
    "print(properties_ids_pert.shape)\n",
    "\n",
    "base_LEODs = base_LEODs[:].squeeze()\n",
    "pert_LEODs = pert_LEODs[:].squeeze() / base_LEODs.ptp()\n",
    "base_LEODs = base_LEODs / base_LEODs.ptp()"
   ]
  },
  {
   "cell_type": "code",
   "execution_count": 16,
   "id": "c9c828e9",
   "metadata": {},
   "outputs": [
    {
     "data": {
      "image/png": "[encoded data removed]",
      "text/plain": [
       "<Figure size 432x288 with 1 Axes>"
      ]
     },
     "metadata": {
      "needs_background": "light"
     },
     "output_type": "display_data"
    }
   ],
   "source": [
    "plt.plot(pert_LEODs.T, 'k', lw=0.1)\n",
    "plt.plot(base_LEODs, 'b')\n",
    "plt.show()"
   ]
  },
  {
   "cell_type": "code",
   "execution_count": 17,
   "id": "434094f6",
   "metadata": {},
   "outputs": [],
   "source": [
    "pca = PCA(n_components=2).fit(pert_LEODs)\n",
    "pert_feats = pca.transform(pert_LEODs)\n",
    "base_feats = pca.transform(base_LEODs[np.newaxis])"
   ]
  },
  {
   "cell_type": "code",
   "execution_count": 18,
   "id": "b68a52fc",
   "metadata": {},
   "outputs": [
    {
     "data": {
      "image/png": "[encoded data removed]",
      "text/plain": [
       "<Figure size 432x288 with 1 Axes>"
      ]
     },
     "metadata": {
      "needs_background": "light"
     },
     "output_type": "display_data"
    }
   ],
   "source": [
    "idx  = np.ones(pert_feats.shape[0]).astype(bool)\n",
    "# idx &= (properties_ids_pert[:,properties_dict['resistances']]  < 80) & (properties_ids_pert[:,properties_dict['resistances']]  > 20) & (properties_ids_pert[:,properties_dict['resistances']]  % 4 == 0)\n",
    "# idx &= (properties_ids_pert[:,properties_dict['capacitances']] < 45) & (properties_ids_pert[:,properties_dict['capacitances']] > 0 ) & (properties_ids_pert[:,properties_dict['capacitances']] % 3 == 0)\n",
    "\n",
    "plt.scatter(*pert_feats[idx].T, color='k', s=1)\n",
    "plt.scatter(*base_feats.T, color='b', s=50)\n",
    "# plt.xlim([-5, 7])\n",
    "# plt.ylim([-2, 4])\n",
    "plt.show()"
   ]
  },
  {
   "cell_type": "code",
   "execution_count": 19,
   "id": "efe5efa0",
   "metadata": {},
   "outputs": [],
   "source": [
    "stim_df = pd.DataFrame()\n",
    "for i in range(pert_LEODs.shape[0]):\n",
    "    res = resistances[ properties_ids_pert[:, properties_dict['resistances']][ i]]\n",
    "    cap = capacitances[properties_ids_pert[:, properties_dict['capacitances']][i]]\n",
    "    stim_df = pd.concat(\n",
    "        [stim_df,\n",
    "         pd.DataFrame.from_dict([dict(\n",
    "             marker=i+2,\n",
    "             waveform=pert_LEODs[i],\n",
    "             maxv=pert_LEODs[i].max(),\n",
    "             minv=pert_LEODs[i].min(),\n",
    "             samprate=sampling_rate,\n",
    "             resistance=res,\n",
    "             capacitance=cap\n",
    "         )])],\n",
    "        ignore_index=True\n",
    "    )\n",
    "\n",
    "stim_df = pd.concat(\n",
    "        [stim_df,\n",
    "         pd.DataFrame.from_dict([dict(\n",
    "             marker=1,\n",
    "             waveform=base_LEODs,\n",
    "             maxv=base_LEODs.max(),\n",
    "             minv=base_LEODs.min(),\n",
    "             samprate=sampling_rate,\n",
    "             resistance=-1,\n",
    "             capacitance=-1\n",
    "         )])],\n",
    "        ignore_index=True\n",
    "    )\n",
    "stim_df = stim_df.to_dict(orient='list')\n",
    "for k in stim_df:\n",
    "    stim_df[k] = np.array(stim_df[k])"
   ]
  },
  {
   "cell_type": "code",
   "execution_count": 20,
   "id": "79d35824",
   "metadata": {},
   "outputs": [],
   "source": [
    "io.savemat(f'20231024_fishID_{fish_eod_id}.mat', stim_df)"
   ]
  },
  {
   "cell_type": "code",
   "execution_count": null,
   "id": "109da600",
   "metadata": {},
   "outputs": [],
   "source": []
  },
  {
   "cell_type": "code",
   "execution_count": null,
   "id": "7ad0c09b",
   "metadata": {},
   "outputs": [],
   "source": []
  }
 ],
 "metadata": {
  "kernelspec": {
   "display_name": "Python 3.7.6 ('fish_PT')",
   "language": "python",
   "name": "python3"
  },
  "language_info": {
   "codemirror_mode": {
    "name": "ipython",
    "version": 3
   },
   "file_extension": ".py",
   "mimetype": "text/x-python",
   "name": "python",
   "nbconvert_exporter": "python",
   "pygments_lexer": "ipython3",
   "version": "3.7.6"
  },
  "vscode": {
   "interpreter": {
    "hash": "6ad226b9bd45bab16b521a40b87b0c0819cb92a301ab41030f1182bd53c1fc03"
   }
  }
 },
 "nbformat": 4,
 "nbformat_minor": 5
}
