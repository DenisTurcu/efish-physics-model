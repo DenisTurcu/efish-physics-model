{
 "cells": [
  {
   "cell_type": "code",
   "execution_count": 1,
   "metadata": {},
   "outputs": [],
   "source": [
    "%load_ext autoreload\n",
    "%autoreload 2"
   ]
  },
  {
   "cell_type": "code",
   "execution_count": 2,
   "metadata": {},
   "outputs": [],
   "source": [
    "import sys\n",
    "sys.path.append('../helper_functions')\n",
    "sys.path.append('../objects')\n",
    "# sys.path.append('..')\n",
    "\n",
    "import copy\n",
    "import time\n",
    "import dill\n",
    "import numpy as np\n",
    "import scipy.io as io\n",
    "import mat73\n",
    "import matplotlib.pyplot as plt\n",
    "from scipy.spatial.transform import Rotation as R\n",
    "import plotly.graph_objects as go\n",
    "\n",
    "%matplotlib inline\n",
    "# %matplotlib qt"
   ]
  },
  {
   "cell_type": "code",
   "execution_count": 3,
   "metadata": {},
   "outputs": [
    {
     "data": {
      "text/plain": [
       "'Success!'"
      ]
     },
     "execution_count": 3,
     "metadata": {},
     "output_type": "execute_result"
    }
   ],
   "source": [
    "from prefixes import remove_prefix, add_prefix\n",
    "from conversions import rho24sig, convert2mainSI\n",
    "\n",
    "from ElectricObject import ElectricObject\n",
    "\n",
    "from Worm import Worm\n",
    "from Worm_SmallSpherical import SmallSphericalWorm\n",
    "\n",
    "from Fish import Fish\n",
    "from FishGeneration import FishGeneration\n",
    "from Fish_IceCreamCone import IceCreamConeFish\n",
    "from Fish_Capsule import CapsuleFish\n",
    "\n",
    "\n",
    "from Boundaries import *\n",
    "from Aquarium import Aquarium\n",
    "from Aquarium_SinglePlane import SinglePlaneAquarium\n",
    "\n",
    "from assertion_tests import run_tests\n",
    "run_tests()"
   ]
  },
  {
   "cell_type": "markdown",
   "metadata": {},
   "source": [
    "## Load and process the EOD waveform"
   ]
  },
  {
   "cell_type": "code",
   "execution_count": 4,
   "metadata": {},
   "outputs": [],
   "source": [
    "# FISH_EOD_ID = 0\n",
    "# sampling_rate = (2.5, 'M')\n",
    "# full_eod = io.loadmat('../../eods/eod_fit.mat')['fitted_eod'].flatten()\n",
    "\n",
    "# # erase the 0-padding around the eod for efficiency\n",
    "# max_eod = np.abs(full_eod).max()\n",
    "# alt_0 = 1e-2\n",
    "# good_id_bounds = np.where(np.abs(full_eod) > max_eod * alt_0)[0]\n",
    "# full_eod = full_eod[good_id_bounds[0]:good_id_bounds[-1]]\n",
    "# full_eod-= full_eod[0]\n",
    "# full_eod = full_eod[:1000]\n",
    "# full_eod.shape"
   ]
  },
  {
   "cell_type": "code",
   "execution_count": 5,
   "metadata": {},
   "outputs": [
    {
     "data": {
      "text/plain": [
       "(2501,)"
      ]
     },
     "execution_count": 5,
     "metadata": {},
     "output_type": "execute_result"
    }
   ],
   "source": [
    "FISH_EOD_ID = 2\n",
    "# sampling_rate = (1.428469395043211, 'M')\n",
    "sampling_rate = (2.5, 'M')\n",
    "full_eod = mat73.loadmat(f'../../eods/20231022_eod_{FISH_EOD_ID}.mat')['eod_fish'].flatten()\n",
    "\n",
    "# # erase the 0-padding around the eod for efficiency\n",
    "# max_eod = np.abs(full_eod).max()\n",
    "# alt_0 = 1e-2\n",
    "# good_id_bounds = np.where(np.abs(full_eod) > max_eod * alt_0)[0]\n",
    "# full_eod = full_eod[good_id_bounds[0]:good_id_bounds[-1]]\n",
    "# full_eod-= full_eod[0]\n",
    "full_eod.shape"
   ]
  },
  {
   "cell_type": "markdown",
   "metadata": {},
   "source": [
    "## Create the Fish object"
   ]
  },
  {
   "cell_type": "code",
   "execution_count": 27,
   "metadata": {},
   "outputs": [
    {
     "name": "stdout",
     "output_type": "stream",
     "text": [
      "Success!\n"
     ]
    }
   ],
   "source": [
    "# define the base fish\n",
    "base_fish = CapsuleFish(\n",
    "    receptors_locations=np.array([[11e-2-0.02, 0.007, 0]]).reshape(1,3),\n",
    "    receptors_normals=np.array([[0, 1, 0]]).reshape(1,3),\n",
    "    # point_currents_magnitudes=np.array([]).reshape(0),\n",
    "    # point_currents_locations=np.array([]).reshape(0,3),\n",
    "    receptor_filters=np.array([]).reshape(0,full_eod.shape[0]),\n",
    "    eod_waveform=full_eod,\n",
    "    skin_resistivity=3 * 1e3 * (1e-2)**2,\n",
    "    sampling_rate=sampling_rate,  # (2.5, \"M\"),  # MHz,\n",
    "    eod_delay=(0,), # s,\n",
    "    nose_position=[0,0,0],\n",
    "    fish_length=(11, 'c'),\n",
    "    angle_yaw=(0, 'deg'),\n",
    "    angle_pitch=(0, 'deg'),\n",
    "    angle_roll=(0, 'deg'),\n",
    "    relative_bend_locations_percentage=np.array([]),\n",
    "    relative_bend_angle_lateral=(np.array([]),\"deg\"),\n",
    "    relative_bend_angle_dorso_ventral =(np.array([]),\"deg\"),\n",
    "    point_currents_range_percentage=dict(start=0, end=100),\n",
    "    N_point_currents=101,\n",
    "    point_currents_magnitude_scale=1,\n",
    "    receptors_init=None,\n",
    "    vertical_semi_axis=(1.4, 'c'),\n",
    "    lateral_semi_axis=(0.7, 'c'),\n",
    "    rostrocaudal_semi_axis=0,#None,\n",
    "    rostrocaudal_semi_axis_tail=0,#(3, 'c'),\n",
    ")\n",
    "\n",
    "dill.dump(base_fish,  open(f'../data/baseFish/data_231022_base_fish_ID{FISH_EOD_ID}_single_receptor.pkl', 'wb'), protocol=4)\n",
    "# base_fish = dill.load(open(f'../data/baseFish/data_231022_base_fish_ID{FISH_EOD_ID}_single_receptor.pkl', 'rb'))"
   ]
  },
  {
   "cell_type": "code",
   "execution_count": 28,
   "metadata": {},
   "outputs": [],
   "source": [
    "# base_fish.visualize_scatter(show_normals=2, show_point_currents=3)\n",
    "# print(base_fish.get_receptors_locations().shape)"
   ]
  },
  {
   "cell_type": "code",
   "execution_count": 29,
   "metadata": {},
   "outputs": [],
   "source": [
    "# Create Data Params Dict\n",
    "data_params_dict = {}\n",
    "data_params_dict['save_file_name']                  = f'data_231022_SingleFish_EODid{FISH_EOD_ID}_ManyRC'\n",
    "# aquarium properties\n",
    "data_params_dict['water_conductivities']            = [0.01]  # np.array([100, 300, 600]) * 1e-6 / 1e-2\n",
    "data_params_dict['boundary_displacements']          = [[-1e9]]\n",
    "data_params_dict['boundary_normals']                =  [[0,0,1]]\n",
    "# fish properties\n",
    "data_params_dict['fish_obj']                        = base_fish\n",
    "data_params_dict['fish_bend_angle_lateral']         = [[0]]  #[[x] for x in np.linspace(-60,60,25)]\n",
    "data_params_dict['fish_bend_angle_dorso_ventral']   = [[0]]  #[[0]]\n",
    "data_params_dict['fish_bend_location_percentages']  = [[0]]  #[[60]]\n",
    "data_params_dict['fish_yaw']                        = [0]\n",
    "data_params_dict['fish_pitch']                      = [0]\n",
    "data_params_dict['fish_roll']                       = [0]\n",
    "# worm properties\n",
    "data_params_dict['worm_resistances']                = (np.exp(np.linspace(np.log(2), np.log(100), 100)) * 1e3)[20:80][::4]\n",
    "data_params_dict['worm_capacitances']               = (np.exp(np.linspace(np.log(2), np.log(1000), 100)) * 1e-10)[0:45][::3]\n",
    "data_params_dict['worm_radii']                      = np.array([5]) * 1e-3\n",
    "data_params_dict['worm_position_xs']                = np.array([-20]) * 1e-3\n",
    "data_params_dict['worm_position_ys']                = np.array([5]) * 1e-3 + base_fish.lat_ax\n",
    "data_params_dict['worm_position_zs']                = np.array([0]) * 1e-3\n",
    "# save params file\n",
    "dill.dump(data_params_dict, open('../data/params/' + data_params_dict['save_file_name'] + '_params_dict.pkl', 'wb'), protocol=4)"
   ]
  },
  {
   "cell_type": "code",
   "execution_count": null,
   "metadata": {},
   "outputs": [],
   "source": []
  },
  {
   "cell_type": "code",
   "execution_count": null,
   "metadata": {},
   "outputs": [],
   "source": []
  },
  {
   "cell_type": "markdown",
   "metadata": {},
   "source": [
    "# Modify previous parameters for re-runs"
   ]
  },
  {
   "cell_type": "code",
   "execution_count": null,
   "metadata": {},
   "outputs": [],
   "source": [
    "# fish = data_params_dict['fish_obj']\n",
    "data_params_dict = dill.load(open('../data/params/data_220610_Large_dataset_with_receptors_responses_params_dict.pkl','rb'))"
   ]
  },
  {
   "cell_type": "code",
   "execution_count": null,
   "metadata": {
    "scrolled": false
   },
   "outputs": [],
   "source": [
    "data_params_dict"
   ]
  },
  {
   "cell_type": "code",
   "execution_count": null,
   "metadata": {},
   "outputs": [],
   "source": [
    "# SECOND (LARGER STD) GAUSSIAN RANDOM IN R & C WITH MEAN AROUND MOST VARIABLE POINT IN FEATURE SPACE\n",
    "resistances = np.sort(np.abs(np.random.randn(200) * data_params_dict['worm_resistances'][::8][9-3:9+3].std() * 2 + data_params_dict['worm_resistances'][::8][9-3:9+3].mean()))\n",
    "capacitances = np.sort(np.abs(np.random.randn(200) * data_params_dict['worm_capacitances'][::8][12-3:12+3].std() * 2 + data_params_dict['worm_capacitances'][::8][12-3:12+3].mean()))\n",
    "\n",
    "data_params_dict['worm_resistances'] = resistances\n",
    "data_params_dict['worm_capacitances'] = capacitances\n",
    "data_params_dict['fish_obj'] = base_fish\n",
    "data_params_dict['worm_position_xs'] = [-0.03]\n",
    "data_params_dict['save_file_name'] = 'data_221220_PCA_of_RC_effects_Gauss_Wide_Rand_Dist'"
   ]
  },
  {
   "cell_type": "code",
   "execution_count": null,
   "metadata": {},
   "outputs": [],
   "source": [
    "# plt.plot(resistances)\n",
    "plt.plot(capacitances)"
   ]
  },
  {
   "cell_type": "code",
   "execution_count": null,
   "metadata": {},
   "outputs": [],
   "source": [
    "data_params_dict"
   ]
  },
  {
   "cell_type": "code",
   "execution_count": null,
   "metadata": {},
   "outputs": [],
   "source": [
    "dill.dump(data_params_dict, open('../data/params/'+data_params_dict['save_file_name'] + '_params_dict.pkl', 'wb'), protocol=4)"
   ]
  },
  {
   "cell_type": "code",
   "execution_count": null,
   "metadata": {},
   "outputs": [],
   "source": []
  }
 ],
 "metadata": {
  "kernelspec": {
   "display_name": "Python 3.7.6 ('fish_PT')",
   "language": "python",
   "name": "python3"
  },
  "language_info": {
   "codemirror_mode": {
    "name": "ipython",
    "version": 3
   },
   "file_extension": ".py",
   "mimetype": "text/x-python",
   "name": "python",
   "nbconvert_exporter": "python",
   "pygments_lexer": "ipython3",
   "version": "3.7.6"
  },
  "vscode": {
   "interpreter": {
    "hash": "6ad226b9bd45bab16b521a40b87b0c0819cb92a301ab41030f1182bd53c1fc03"
   }
  }
 },
 "nbformat": 4,
 "nbformat_minor": 4
}
