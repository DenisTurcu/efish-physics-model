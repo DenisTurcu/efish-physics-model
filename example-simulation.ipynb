{
 "cells": [
  {
   "cell_type": "code",
   "execution_count": null,
   "metadata": {},
   "outputs": [],
   "source": [
    "%load_ext autoreload\n",
    "%autoreload 2"
   ]
  },
  {
   "cell_type": "code",
   "execution_count": null,
   "metadata": {},
   "outputs": [],
   "source": [
    "import sys\n",
    "import numpy as np\n",
    "import matplotlib.pyplot as plt\n",
    "import seaborn as sns\n",
    "\n",
    "sys.path.append(\"helper_functions/\")\n",
    "sys.path.append(\"objects/\")\n",
    "sys.path.append(\"uniform_points_generation/\")\n",
    "\n",
    "from conversions import convert2mainSI\n",
    "from objects.Aquarium_SinglePlane import SinglePlaneAquarium\n",
    "from objects.Fish_IceCreamCone import IceCreamConeFish\n",
    "from objects.Worm_SmallSpherical import SmallSphericalWorm"
   ]
  },
  {
   "cell_type": "markdown",
   "metadata": {},
   "source": [
    "### Define an Aquarium object"
   ]
  },
  {
   "cell_type": "markdown",
   "metadata": {},
   "source": [
    "#### Check what arguments are needed to initialize this object"
   ]
  },
  {
   "cell_type": "code",
   "execution_count": null,
   "metadata": {},
   "outputs": [],
   "source": [
    "for arg in SinglePlaneAquarium._initialize_input_argument_names():\n",
    "    print(arg)"
   ]
  },
  {
   "cell_type": "markdown",
   "metadata": {},
   "source": [
    "#### Initialize an empty aquarium\n",
    "We will populate it with fish and worms later"
   ]
  },
  {
   "cell_type": "code",
   "execution_count": null,
   "metadata": {},
   "outputs": [],
   "source": [
    "aquarium = SinglePlaneAquarium(\n",
    "    conductivity=(100, \"u\", \"c.-1\"),  # 100 uS/cm\n",
    "    relative_permittivity=80.0,  # relative permittivity of water\n",
    "    fish_objs=[],  # empty, will populate later\n",
    "    worm_objs=[],  # empty, will populate later\n",
    "    boundaries=[\n",
    "        (\"plane\", dict(normal=[0, 0, 1], central_point=[0, 0, 0]))\n",
    "    ],  # planar boundary marking the bottom of tank\n",
    ")"
   ]
  },
  {
   "cell_type": "markdown",
   "metadata": {},
   "source": [
    "### Define a fish object"
   ]
  },
  {
   "cell_type": "markdown",
   "metadata": {},
   "source": [
    "#### Create a dummy EOD shape"
   ]
  },
  {
   "cell_type": "code",
   "execution_count": null,
   "metadata": {},
   "outputs": [],
   "source": [
    "eod_wave_form = np.linspace(0, 2 * np.pi, 1000)\n",
    "eod_wave_form = np.sin(eod_wave_form) * eod_wave_form * np.exp(-((eod_wave_form - np.pi) ** 2) / (2 * (np.pi / 6) ** 2))\n",
    "\n",
    "plt.figure()\n",
    "plt.plot(eod_wave_form)\n",
    "plt.title(\"Dummy EOD waveform\")\n",
    "plt.xlabel(\"Time index\")\n",
    "plt.ylabel(\"EOD value\")\n",
    "plt.tight_layout()\n",
    "sns.despine(offset=10, trim=True)\n",
    "plt.show()\n",
    "plt.close()"
   ]
  },
  {
   "cell_type": "markdown",
   "metadata": {},
   "source": [
    "#### Check what arguments are needed to initialize this object"
   ]
  },
  {
   "cell_type": "code",
   "execution_count": null,
   "metadata": {},
   "outputs": [],
   "source": [
    "for arg in IceCreamConeFish._initialize_input_argument_names():\n",
    "    print(arg)"
   ]
  },
  {
   "cell_type": "markdown",
   "metadata": {},
   "source": [
    "#### Initialize the fish object\n",
    "Only provide relevant parameters, no need to provide all"
   ]
  },
  {
   "cell_type": "code",
   "execution_count": null,
   "metadata": {},
   "outputs": [],
   "source": [
    "fish = IceCreamConeFish(\n",
    "    receptors_init=dict(method=\"random\", head=300, body=2000),\n",
    "    eod_wave_form=eod_wave_form,\n",
    "    skin_resistivity=(3, \"k\", \"c.2\"),  # 3 kOhm.cm^2\n",
    "    sampling_rate=(2.5, \"M\"),  # MHz\n",
    "    nose_position=([0, 0, 2], \"c\"),  # cm\n",
    "    fish_length=(15, \"c\"),  # cm\n",
    "    angle_pitch=(5, \"deg\"),\n",
    "    relative_bend_locations_percentage=np.array([45, 75]),\n",
    "    relative_bend_angle_lateral=(np.array([-25, -30]), \"deg\"),\n",
    "    relative_bend_angle_dorso_ventral=(np.array([10, 10]), \"deg\"),\n",
    "    point_currents_range_percentage=dict(start=0, end=100),\n",
    "    N_point_currents=101,\n",
    "    point_currents_magnitude_scale=1,\n",
    "    vertical_semi_axis=(1.5, \"c\"),  # cm\n",
    "    lateral_semi_axis=(0.8, \"c\"),  # cm\n",
    "    rostrocaudal_semi_axis=(1, \"c\"),  # cm\n",
    ")"
   ]
  },
  {
   "cell_type": "markdown",
   "metadata": {},
   "source": [
    "#### Visualize the fish by itself"
   ]
  },
  {
   "cell_type": "code",
   "execution_count": null,
   "metadata": {},
   "outputs": [],
   "source": [
    "fish.visualize_scatter(show_normals=1, marker_size=3, show_point_currents=4, xaxis_title=\"X\", yaxis_title=\"Y\", zaxis_title=\"Z\", fig_width=800, fig_height=300)\n",
    "print(f\"Number of receptors: {fish.get_N_receptors()}\")"
   ]
  },
  {
   "cell_type": "markdown",
   "metadata": {},
   "source": [
    "### Define a worm object "
   ]
  },
  {
   "cell_type": "markdown",
   "metadata": {},
   "source": [
    "#### Check what arguments are needed to initialize this object"
   ]
  },
  {
   "cell_type": "code",
   "execution_count": null,
   "metadata": {},
   "outputs": [],
   "source": [
    "for arg in SmallSphericalWorm._initialize_input_argument_names():\n",
    "    print(arg)"
   ]
  },
  {
   "cell_type": "markdown",
   "metadata": {},
   "source": [
    "#### Initialize the worm object"
   ]
  },
  {
   "cell_type": "code",
   "execution_count": null,
   "metadata": {},
   "outputs": [],
   "source": [
    "worm = SmallSphericalWorm(\n",
    "    center_position=([-2, 2, 2], \"c\"),\n",
    "    radius=(1, \"c\"),    # 1 cm\n",
    "    resistance=(10, \"k\"),  # 10 kOhm\n",
    "    capacitance=(10, \"n\"),  # 10 nF\n",
    ")"
   ]
  },
  {
   "cell_type": "markdown",
   "metadata": {},
   "source": [
    "## Populate the aquarium"
   ]
  },
  {
   "cell_type": "code",
   "execution_count": null,
   "metadata": {},
   "outputs": [],
   "source": [
    "aquarium.insert_fish(fish)\n",
    "aquarium.insert_worm(worm)"
   ]
  },
  {
   "cell_type": "markdown",
   "metadata": {},
   "source": [
    "### Visualize the electric signal in the aquarium"
   ]
  },
  {
   "cell_type": "markdown",
   "metadata": {},
   "source": [
    "#### Check visualization options"
   ]
  },
  {
   "cell_type": "code",
   "execution_count": null,
   "metadata": {},
   "outputs": [],
   "source": [
    "print(aquarium.visualize_aquarium.__doc__)"
   ]
  },
  {
   "cell_type": "code",
   "execution_count": null,
   "metadata": {},
   "outputs": [],
   "source": [
    "fig = aquarium.visualize_aquarium(\n",
    "    time_points=50,\n",
    "    shown_time_prefix=\"u\",\n",
    "    range_points=30,\n",
    "    lengths_prefix=\"m\",\n",
    "    show_fish=2,\n",
    "    show_electric_signal=True,\n",
    "    show_normals=1,\n",
    "    show_point_currents=4,\n",
    "    show_image_currents=4,\n",
    "    show_worms=1,\n",
    "    show_potential=True,\n",
    "    show_field=False,\n",
    "    include_active_objects=True,\n",
    "    include_passive_objects=True,\n",
    "    electric_signal_perturbation_only=True,\n",
    "    potential_double_sided_percentile=10,\n",
    "    xaxis_title=\"X\",\n",
    "    yaxis_title=\"Y\",\n",
    "    zaxis_title=\"Z\",\n",
    "    fig_width=900,\n",
    "    fig_height=800,\n",
    ")"
   ]
  },
  {
   "cell_type": "markdown",
   "metadata": {},
   "source": [
    "## Update fish parameters (i.e. move fish)"
   ]
  },
  {
   "cell_type": "markdown",
   "metadata": {},
   "source": [
    "### Initially generate fish"
   ]
  },
  {
   "cell_type": "code",
   "execution_count": null,
   "metadata": {},
   "outputs": [],
   "source": [
    "fish.visualize_scatter(show_normals=1, marker_size=3, show_point_currents=4, xaxis_title=\"X\", yaxis_title=\"Y\", zaxis_title=\"Z\", fig_width=800, fig_height=300)\n",
    "print(f\"Number of receptors: {fish.get_N_receptors()}\")"
   ]
  },
  {
   "cell_type": "markdown",
   "metadata": {},
   "source": [
    "### Updated fish"
   ]
  },
  {
   "cell_type": "code",
   "execution_count": null,
   "metadata": {},
   "outputs": [],
   "source": [
    "fish.update_parameters(\n",
    "    nose_position=[0.2, 0.1, 0.3],\n",
    "    angle_yaw=convert2mainSI((30, \"deg\")),\n",
    "    angle_pitch=convert2mainSI((45, \"deg\")),\n",
    "    angle_roll=convert2mainSI((90, \"deg\")),\n",
    "    relative_bend_locations_percentage=np.array([50]),\n",
    "    relative_bend_angle_lateral=convert2mainSI(([45], \"deg\")),\n",
    "    relative_bend_angle_dorso_ventral=convert2mainSI(([0], \"deg\")),\n",
    "    point_currents_range_percentage=dict(start=25, end=80),\n",
    "    N_point_currents=21,\n",
    ")\n",
    "\n",
    "fish.visualize_scatter(show_normals=1, marker_size=3, show_point_currents=4, xaxis_title=\"X\", yaxis_title=\"Y\", zaxis_title=\"Z\", fig_width=800, fig_height=300)\n",
    "print(f\"Number of receptors: {fish.get_N_receptors()}\")"
   ]
  },
  {
   "cell_type": "code",
   "execution_count": null,
   "metadata": {},
   "outputs": [],
   "source": []
  }
 ],
 "metadata": {
  "kernelspec": {
   "display_name": "efish",
   "language": "python",
   "name": "python3"
  },
  "language_info": {
   "codemirror_mode": {
    "name": "ipython",
    "version": 3
   },
   "file_extension": ".py",
   "mimetype": "text/x-python",
   "name": "python",
   "nbconvert_exporter": "python",
   "pygments_lexer": "ipython3",
   "version": "3.11.7"
  }
 },
 "nbformat": 4,
 "nbformat_minor": 2
}
